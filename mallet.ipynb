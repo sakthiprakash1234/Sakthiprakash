{
  "nbformat": 4,
  "nbformat_minor": 0,
  "metadata": {
    "colab": {
      "provenance": [],
      "collapsed_sections": []
    },
    "kernelspec": {
      "name": "python3",
      "display_name": "Python 3"
    },
    "language_info": {
      "name": "python"
    }
  },
  "cells": [
    {
      "cell_type": "code",
      "execution_count": null,
      "metadata": {
        "id": "wOYpYdJ0Yma4"
      },
      "outputs": [],
      "source": [
        "!pip install pyLDAvis\n",
        "\n",
        "import pyLDAvis\n",
        "import pyLDAvis.gensim_models"
      ]
    },
    {
      "cell_type": "code",
      "source": [
        "import pandas as pd\n",
        "import numpy as np\n",
        "\n",
        "import re\n",
        "import string\n",
        "\n",
        "import spacy\n",
        "\n",
        "import gensim\n",
        "from gensim import corpora\n",
        "\n",
        "# libraries for visualization\n",
        "import pyLDAvis\n",
        "import pyLDAvis.gensim_models\n",
        "import matplotlib.pyplot as plt\n",
        "import seaborn as sns\n",
        "%matplotlib inline"
      ],
      "metadata": {
        "id": "hOOpgWnOYvAS",
        "colab": {
          "base_uri": "https://localhost:8080/"
        },
        "outputId": "412f3a48-ceae-4af6-83a0-fcf274086d66"
      },
      "execution_count": null,
      "outputs": [
        {
          "output_type": "stream",
          "name": "stderr",
          "text": [
            "/usr/local/lib/python3.7/dist-packages/scipy/sparse/sparsetools.py:21: DeprecationWarning: `scipy.sparse.sparsetools` is deprecated!\n",
            "scipy.sparse.sparsetools is a private module for scipy.sparse, and should not be used.\n",
            "  _deprecated()\n"
          ]
        }
      ]
    },
    {
      "cell_type": "code",
      "source": [
        "from google.colab import files\n",
        "uploaded = files.upload()"
      ],
      "metadata": {
        "colab": {
          "resources": {
            "http://localhost:8080/nbextensions/google.colab/files.js": {
              "data": "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",
              "ok": true,
              "headers": [
                [
                  "content-type",
                  "application/javascript"
                ]
              ],
              "status": 200,
              "status_text": ""
            }
          },
          "base_uri": "https://localhost:8080/",
          "height": 73
        },
        "id": "XYB3ytX_Y4Fe",
        "outputId": "5689e799-c8e7-476d-a05e-b666f1fad5f9"
      },
      "execution_count": null,
      "outputs": [
        {
          "output_type": "display_data",
          "data": {
            "text/plain": [
              "<IPython.core.display.HTML object>"
            ],
            "text/html": [
              "\n",
              "     <input type=\"file\" id=\"files-da343fb0-075b-4b36-892a-b29d6e21369d\" name=\"files[]\" multiple disabled\n",
              "        style=\"border:none\" />\n",
              "     <output id=\"result-da343fb0-075b-4b36-892a-b29d6e21369d\">\n",
              "      Upload widget is only available when the cell has been executed in the\n",
              "      current browser session. Please rerun this cell to enable.\n",
              "      </output>\n",
              "      <script src=\"/nbextensions/google.colab/files.js\"></script> "
            ]
          },
          "metadata": {}
        },
        {
          "output_type": "stream",
          "name": "stdout",
          "text": [
            "Saving Order_Status_DSAT.xlsx to Order_Status_DSAT.xlsx\n"
          ]
        }
      ]
    },
    {
      "cell_type": "code",
      "source": [
        "import pandas as pd\n",
        "df_sampled_1 = pd.read_excel('Order_Status_DSAT.xlsx')"
      ],
      "metadata": {
        "id": "ZA-iM6OtY4Hy"
      },
      "execution_count": null,
      "outputs": []
    },
    {
      "cell_type": "code",
      "source": [
        "df_sampled_1.shape"
      ],
      "metadata": {
        "colab": {
          "base_uri": "https://localhost:8080/"
        },
        "id": "VzhIi20TstfP",
        "outputId": "342f3dbf-5df2-4e9e-94e9-769c2a3a816c"
      },
      "execution_count": null,
      "outputs": [
        {
          "output_type": "execute_result",
          "data": {
            "text/plain": [
              "(4195, 7)"
            ]
          },
          "metadata": {},
          "execution_count": 5
        }
      ]
    },
    {
      "cell_type": "code",
      "source": [
        "# Remove the columns\n",
        "df_sampled_1 = df_sampled_1.drop(columns=['fiscalmonth', 'data3rdinfo_guid', 'sat_vs_dissat','purpose_of_visit_hierarchy_level1', 'purpose_of_visit_hierarchy_level2', 'orderstatussurvey'], axis=1)\n",
        "# Print out the first rows of papers\n",
        "df_sampled_1.head()"
      ],
      "metadata": {
        "colab": {
          "base_uri": "https://localhost:8080/",
          "height": 206
        },
        "id": "QOLrfYVjY4Ky",
        "outputId": "326f4ba6-78ce-4b84-ee54-f0ad717d109a"
      },
      "execution_count": null,
      "outputs": [
        {
          "output_type": "execute_result",
          "data": {
            "text/plain": [
              "                                         improvetext\n",
              "0  i need the information that is in \"track your ...\n",
              "1  i would like you to care more about after-sale...\n",
              "2                                                 on\n",
              "3  To be able to communicate with someone who is ...\n",
              "4            can't find my order, not the first time"
            ],
            "text/html": [
              "\n",
              "  <div id=\"df-fac6c0dd-e68d-49d2-9c28-fafb108dd6f5\">\n",
              "    <div class=\"colab-df-container\">\n",
              "      <div>\n",
              "<style scoped>\n",
              "    .dataframe tbody tr th:only-of-type {\n",
              "        vertical-align: middle;\n",
              "    }\n",
              "\n",
              "    .dataframe tbody tr th {\n",
              "        vertical-align: top;\n",
              "    }\n",
              "\n",
              "    .dataframe thead th {\n",
              "        text-align: right;\n",
              "    }\n",
              "</style>\n",
              "<table border=\"1\" class=\"dataframe\">\n",
              "  <thead>\n",
              "    <tr style=\"text-align: right;\">\n",
              "      <th></th>\n",
              "      <th>improvetext</th>\n",
              "    </tr>\n",
              "  </thead>\n",
              "  <tbody>\n",
              "    <tr>\n",
              "      <th>0</th>\n",
              "      <td>i need the information that is in \"track your ...</td>\n",
              "    </tr>\n",
              "    <tr>\n",
              "      <th>1</th>\n",
              "      <td>i would like you to care more about after-sale...</td>\n",
              "    </tr>\n",
              "    <tr>\n",
              "      <th>2</th>\n",
              "      <td>on</td>\n",
              "    </tr>\n",
              "    <tr>\n",
              "      <th>3</th>\n",
              "      <td>To be able to communicate with someone who is ...</td>\n",
              "    </tr>\n",
              "    <tr>\n",
              "      <th>4</th>\n",
              "      <td>can't find my order, not the first time</td>\n",
              "    </tr>\n",
              "  </tbody>\n",
              "</table>\n",
              "</div>\n",
              "      <button class=\"colab-df-convert\" onclick=\"convertToInteractive('df-fac6c0dd-e68d-49d2-9c28-fafb108dd6f5')\"\n",
              "              title=\"Convert this dataframe to an interactive table.\"\n",
              "              style=\"display:none;\">\n",
              "        \n",
              "  <svg xmlns=\"http://www.w3.org/2000/svg\" height=\"24px\"viewBox=\"0 0 24 24\"\n",
              "       width=\"24px\">\n",
              "    <path d=\"M0 0h24v24H0V0z\" fill=\"none\"/>\n",
              "    <path d=\"M18.56 5.44l.94 2.06.94-2.06 2.06-.94-2.06-.94-.94-2.06-.94 2.06-2.06.94zm-11 1L8.5 8.5l.94-2.06 2.06-.94-2.06-.94L8.5 2.5l-.94 2.06-2.06.94zm10 10l.94 2.06.94-2.06 2.06-.94-2.06-.94-.94-2.06-.94 2.06-2.06.94z\"/><path d=\"M17.41 7.96l-1.37-1.37c-.4-.4-.92-.59-1.43-.59-.52 0-1.04.2-1.43.59L10.3 9.45l-7.72 7.72c-.78.78-.78 2.05 0 2.83L4 21.41c.39.39.9.59 1.41.59.51 0 1.02-.2 1.41-.59l7.78-7.78 2.81-2.81c.8-.78.8-2.07 0-2.86zM5.41 20L4 18.59l7.72-7.72 1.47 1.35L5.41 20z\"/>\n",
              "  </svg>\n",
              "      </button>\n",
              "      \n",
              "  <style>\n",
              "    .colab-df-container {\n",
              "      display:flex;\n",
              "      flex-wrap:wrap;\n",
              "      gap: 12px;\n",
              "    }\n",
              "\n",
              "    .colab-df-convert {\n",
              "      background-color: #E8F0FE;\n",
              "      border: none;\n",
              "      border-radius: 50%;\n",
              "      cursor: pointer;\n",
              "      display: none;\n",
              "      fill: #1967D2;\n",
              "      height: 32px;\n",
              "      padding: 0 0 0 0;\n",
              "      width: 32px;\n",
              "    }\n",
              "\n",
              "    .colab-df-convert:hover {\n",
              "      background-color: #E2EBFA;\n",
              "      box-shadow: 0px 1px 2px rgba(60, 64, 67, 0.3), 0px 1px 3px 1px rgba(60, 64, 67, 0.15);\n",
              "      fill: #174EA6;\n",
              "    }\n",
              "\n",
              "    [theme=dark] .colab-df-convert {\n",
              "      background-color: #3B4455;\n",
              "      fill: #D2E3FC;\n",
              "    }\n",
              "\n",
              "    [theme=dark] .colab-df-convert:hover {\n",
              "      background-color: #434B5C;\n",
              "      box-shadow: 0px 1px 3px 1px rgba(0, 0, 0, 0.15);\n",
              "      filter: drop-shadow(0px 1px 2px rgba(0, 0, 0, 0.3));\n",
              "      fill: #FFFFFF;\n",
              "    }\n",
              "  </style>\n",
              "\n",
              "      <script>\n",
              "        const buttonEl =\n",
              "          document.querySelector('#df-fac6c0dd-e68d-49d2-9c28-fafb108dd6f5 button.colab-df-convert');\n",
              "        buttonEl.style.display =\n",
              "          google.colab.kernel.accessAllowed ? 'block' : 'none';\n",
              "\n",
              "        async function convertToInteractive(key) {\n",
              "          const element = document.querySelector('#df-fac6c0dd-e68d-49d2-9c28-fafb108dd6f5');\n",
              "          const dataTable =\n",
              "            await google.colab.kernel.invokeFunction('convertToInteractive',\n",
              "                                                     [key], {});\n",
              "          if (!dataTable) return;\n",
              "\n",
              "          const docLinkHtml = 'Like what you see? Visit the ' +\n",
              "            '<a target=\"_blank\" href=https://colab.research.google.com/notebooks/data_table.ipynb>data table notebook</a>'\n",
              "            + ' to learn more about interactive tables.';\n",
              "          element.innerHTML = '';\n",
              "          dataTable['output_type'] = 'display_data';\n",
              "          await google.colab.output.renderOutput(dataTable, element);\n",
              "          const docLink = document.createElement('div');\n",
              "          docLink.innerHTML = docLinkHtml;\n",
              "          element.appendChild(docLink);\n",
              "        }\n",
              "      </script>\n",
              "    </div>\n",
              "  </div>\n",
              "  "
            ]
          },
          "metadata": {},
          "execution_count": 6
        }
      ]
    },
    {
      "cell_type": "code",
      "source": [
        "df_sampled_1.dtypes"
      ],
      "metadata": {
        "colab": {
          "base_uri": "https://localhost:8080/"
        },
        "id": "K8SkAkoItPz2",
        "outputId": "db2e22bd-75c1-412e-8081-77ece59a16eb"
      },
      "execution_count": null,
      "outputs": [
        {
          "output_type": "execute_result",
          "data": {
            "text/plain": [
              "improvetext    object\n",
              "dtype: object"
            ]
          },
          "metadata": {},
          "execution_count": 7
        }
      ]
    },
    {
      "cell_type": "code",
      "source": [
        "df_sampled_1.shape"
      ],
      "metadata": {
        "colab": {
          "base_uri": "https://localhost:8080/"
        },
        "id": "-4VPjTX1uVjv",
        "outputId": "6ad239ad-cce7-4fbc-8e38-d413c61d9f12"
      },
      "execution_count": null,
      "outputs": [
        {
          "output_type": "execute_result",
          "data": {
            "text/plain": [
              "(4195, 1)"
            ]
          },
          "metadata": {},
          "execution_count": 8
        }
      ]
    },
    {
      "cell_type": "code",
      "source": [
        "def clean_text(text ): \n",
        "    delete_dict = {sp_character: '' for sp_character in string.punctuation} \n",
        "    delete_dict[' '] = ' ' \n",
        "    table = str.maketrans(delete_dict)\n",
        "    text1 = text.translate(table)\n",
        "    #print('cleaned:'+text1)\n",
        "    textArr= text1.split()\n",
        "    text2 = ' '.join([w for w in textArr if ( not w.isdigit() and  ( not w.isdigit() and len(w)>3))]) \n",
        "    \n",
        "    return text2.lower()"
      ],
      "metadata": {
        "id": "gr_HFBN4Y4Ni"
      },
      "execution_count": null,
      "outputs": []
    },
    {
      "cell_type": "code",
      "source": [
        "import nltk\n",
        "nltk.download('stopwords') # run this one time"
      ],
      "metadata": {
        "colab": {
          "base_uri": "https://localhost:8080/"
        },
        "id": "OyQs-xc7ZE2m",
        "outputId": "8111297d-0bac-4108-bc01-141b75484bab"
      },
      "execution_count": null,
      "outputs": [
        {
          "output_type": "stream",
          "name": "stderr",
          "text": [
            "[nltk_data] Downloading package stopwords to /root/nltk_data...\n",
            "[nltk_data]   Unzipping corpora/stopwords.zip.\n"
          ]
        },
        {
          "output_type": "execute_result",
          "data": {
            "text/plain": [
              "True"
            ]
          },
          "metadata": {},
          "execution_count": 10
        }
      ]
    },
    {
      "cell_type": "code",
      "source": [
        "df_sampled_1.dropna(axis = 0, how ='any',inplace=True) \n",
        "\n",
        "df_sampled_1['improvetext'] = df_sampled_1['improvetext'].apply(clean_text)\n",
        "\n",
        "df_sampled_1['Num_words_text'] = df_sampled_1['improvetext'].apply(lambda x:len(str(x).split())) \n",
        "\n",
        "mask =  (df_sampled_1['Num_words_text'] >3)\n",
        "\n",
        "df_short_reviews = df_sampled_1[mask]"
      ],
      "metadata": {
        "id": "G8zl4MZeZE5i"
      },
      "execution_count": null,
      "outputs": []
    },
    {
      "cell_type": "code",
      "source": [
        "type(df_short_reviews)"
      ],
      "metadata": {
        "colab": {
          "base_uri": "https://localhost:8080/"
        },
        "id": "awf4YsFZYvLI",
        "outputId": "d6234ec5-d9f9-4d82-cd18-a2074c11fe9a"
      },
      "execution_count": null,
      "outputs": [
        {
          "output_type": "execute_result",
          "data": {
            "text/plain": [
              "pandas.core.frame.DataFrame"
            ]
          },
          "metadata": {},
          "execution_count": 12
        }
      ]
    },
    {
      "cell_type": "code",
      "source": [
        "df_sampled = pd.DataFrame(df_short_reviews['improvetext'])"
      ],
      "metadata": {
        "id": "r-kXv5DPZLwx"
      },
      "execution_count": null,
      "outputs": []
    },
    {
      "cell_type": "code",
      "source": [
        "new_stopwords = [\"dell\",\"able\", \"support\", \"time\", \"order\"]\n",
        "\n",
        "stpwrd = nltk.corpus.stopwords.words('english')\n",
        "\n",
        "stpwrd.extend(new_stopwords)\n"
      ],
      "metadata": {
        "id": "738vMT55ZLzv"
      },
      "execution_count": null,
      "outputs": []
    },
    {
      "cell_type": "code",
      "source": [
        "from nltk.corpus import stopwords\n",
        "stop_words = stopwords.words('english')\n",
        "# function to remove stopwords\n",
        "def remove_stopwords(text):\n",
        "    textArr = text.split(' ')\n",
        "    rem_text = \" \".join([i for i in textArr if i not in new_stopwords])\n",
        "    return rem_text\n",
        "\n",
        "# remove stopwords from the text\n",
        "df_sampled['improvetext']=df_sampled['improvetext'].apply(remove_stopwords)"
      ],
      "metadata": {
        "id": "QlUARmWZZL3C"
      },
      "execution_count": null,
      "outputs": []
    },
    {
      "cell_type": "code",
      "source": [
        "df_sampled['improvetext']"
      ],
      "metadata": {
        "colab": {
          "base_uri": "https://localhost:8080/"
        },
        "id": "z7IsSv0R813_",
        "outputId": "7dffa6cd-5ff2-443b-ac95-1fe4773fea27"
      },
      "execution_count": null,
      "outputs": [
        {
          "output_type": "execute_result",
          "data": {
            "text/plain": [
              "0       need information that track your correct with ...\n",
              "1       would like care more about aftersales customer...\n",
              "3       communicate with someone deal with overchargin...\n",
              "4                                         cant find first\n",
              "6       hard understand that takes days deliver piece ...\n",
              "                              ...                        \n",
              "4190    site asking confirm email that service request...\n",
              "4191                    clear instructions confused folks\n",
              "4192    today look more accurate ordering delivery inf...\n",
              "4193     want search from quotation number display status\n",
              "4194    cancelled because technical unable provide wor...\n",
              "Name: improvetext, Length: 3754, dtype: object"
            ]
          },
          "metadata": {},
          "execution_count": 16
        }
      ]
    },
    {
      "cell_type": "code",
      "source": [
        "##import aqgFunction\n",
        "import spacy\n",
        "import en_core_web_sm\n",
        "nlp = en_core_web_sm.load()"
      ],
      "metadata": {
        "id": "6KC17XbGZdIt"
      },
      "execution_count": null,
      "outputs": []
    },
    {
      "cell_type": "code",
      "source": [
        "pip install msgpack-python==0.5.4"
      ],
      "metadata": {
        "id": "B4VZepCxZdLP"
      },
      "execution_count": null,
      "outputs": []
    },
    {
      "cell_type": "code",
      "source": [
        "nlp = spacy.load('en_core_web_sm')"
      ],
      "metadata": {
        "id": "dVmna0IjZdOY"
      },
      "execution_count": null,
      "outputs": []
    },
    {
      "cell_type": "code",
      "source": [
        "##nlp = spacy.load('en_core_web_md', disable=['parser', 'ner'])\n",
        "\n",
        "def lemmatization(texts,allowed_postags=['NOUN', 'ADJ']): \n",
        "       output = []\n",
        "       for sent in texts:\n",
        "             doc = nlp(sent) \n",
        "             output.append([token.lemma_ for token in doc if token.pos_ in allowed_postags ])\n",
        "       return output"
      ],
      "metadata": {
        "id": "X7uRqoX6Zki4"
      },
      "execution_count": null,
      "outputs": []
    },
    {
      "cell_type": "code",
      "source": [
        "# Load the regular expression library\n",
        "import re\n",
        "# Remove punctuation\n",
        "df_sampled['improvetext'] = \\\n",
        "df_sampled['improvetext'].map(lambda x: re.sub('[,\\.!?]', '', x))\n",
        "# Convert the titles to lowercase\n",
        "df_sampled['improvetext'] = \\\n",
        "df_sampled['improvetext'].map(lambda x: x.lower())\n",
        "# Print out the first rows of papers\n",
        "df_sampled['improvetext'].head()"
      ],
      "metadata": {
        "id": "meUwscaqZkmD"
      },
      "execution_count": null,
      "outputs": []
    },
    {
      "cell_type": "code",
      "source": [
        "type(df_sampled)"
      ],
      "metadata": {
        "colab": {
          "base_uri": "https://localhost:8080/"
        },
        "id": "bDzSOuytPHE1",
        "outputId": "b5a6a4be-353e-427b-f24c-fc78ee4c4e5b"
      },
      "execution_count": null,
      "outputs": [
        {
          "output_type": "execute_result",
          "data": {
            "text/plain": [
              "pandas.core.frame.DataFrame"
            ]
          },
          "metadata": {},
          "execution_count": 22
        }
      ]
    },
    {
      "cell_type": "code",
      "source": [
        "text_list=df_sampled['improvetext'].tolist()\n",
        "print(text_list[0])"
      ],
      "metadata": {
        "colab": {
          "base_uri": "https://localhost:8080/"
        },
        "id": "L1sCTvD9Zkpq",
        "outputId": "f6cb2f85-7a63-40d5-9989-881649b4507e"
      },
      "execution_count": null,
      "outputs": [
        {
          "output_type": "stream",
          "name": "stdout",
          "text": [
            "need information that track your correct with delivery date\n"
          ]
        }
      ]
    },
    {
      "cell_type": "code",
      "source": [
        "tokenized_reviews = lemmatization(text_list)\n",
        "print(tokenized_reviews[1])"
      ],
      "metadata": {
        "colab": {
          "base_uri": "https://localhost:8080/"
        },
        "id": "Cv8x7gJ4ZdS4",
        "outputId": "dc2d6e14-7d9a-4260-e91d-32023de2cbd8"
      },
      "execution_count": null,
      "outputs": [
        {
          "output_type": "stream",
          "name": "stdout",
          "text": [
            "['aftersale', 'customer', 'loyalty']\n"
          ]
        }
      ]
    },
    {
      "cell_type": "code",
      "source": [
        "##converting document into bag of words\n",
        "dictionary = corpora.Dictionary(tokenized_reviews)\n",
        "doc_term_matrix = [dictionary.doc2bow(rev) for rev in tokenized_reviews]"
      ],
      "metadata": {
        "id": "ArA0uyrgZdVs"
      },
      "execution_count": null,
      "outputs": []
    },
    {
      "cell_type": "code",
      "source": [
        "# Build the bigram and trigram models\n",
        "bigram = gensim.models.Phrases(tokenized_reviews, min_count=5, threshold=100) # higher threshold fewer phrases.\n",
        "trigram = gensim.models.Phrases(bigram[tokenized_reviews], threshold=100)  \n",
        "\n",
        "# Faster way to get a sentence clubbed as a trigram/bigram\n",
        "bigram_mod = gensim.models.phrases.Phraser(bigram)\n",
        "trigram_mod = gensim.models.phrases.Phraser(trigram)\n",
        "\n",
        "# See trigram example\n",
        "print(trigram_mod[bigram_mod[tokenized_reviews[0]]])"
      ],
      "metadata": {
        "colab": {
          "base_uri": "https://localhost:8080/"
        },
        "id": "_i4czVTbZ4ll",
        "outputId": "c32f2ac0-9310-4cb2-bbdf-93536505602a"
      },
      "execution_count": null,
      "outputs": [
        {
          "output_type": "stream",
          "name": "stderr",
          "text": [
            "/usr/local/lib/python3.7/dist-packages/gensim/models/phrases.py:598: UserWarning: For a faster implementation, use the gensim.models.phrases.Phraser class\n",
            "  warnings.warn(\"For a faster implementation, use the gensim.models.phrases.Phraser class\")\n"
          ]
        },
        {
          "output_type": "stream",
          "name": "stdout",
          "text": [
            "['information', 'correct', 'delivery', 'date']\n"
          ]
        }
      ]
    },
    {
      "cell_type": "code",
      "source": [
        "# Define functions for stopwords, bigrams, trigrams and lemmatization\n",
        "def remove_stopwords(texts):\n",
        "    return [[word for word in simple_preprocess(str(doc)) if word not in new_stopwords] for doc in texts]\n",
        "\n",
        "def make_bigrams(texts):\n",
        "    return [bigram_mod[doc] for doc in texts]\\\n",
        "\n",
        "def make_trigrams(texts):\n",
        "    return [trigram_mod[bigram_mod[doc]] for doc in texts]\n",
        "  \n",
        "def lemmatization(texts, allowed_postags=['NOUN', 'ADJ', 'VERB', 'ADV']):\n",
        "    \"\"\"https://spacy.io/api/annotation\"\"\"\n",
        "    texts_out = []\n",
        "    for sent in texts:\n",
        "        doc = nlp(\" \".join(sent)) \n",
        "        texts_out.append([token.lemma_ for token in doc if token.pos_ in allowed_postags])\n",
        "    return texts_out"
      ],
      "metadata": {
        "id": "-5v3JN8zZ4oX"
      },
      "execution_count": null,
      "outputs": []
    },
    {
      "cell_type": "code",
      "source": [
        "import re\n",
        "import numpy as np\n",
        "import pandas as pd\n",
        "from pprint import pprint\n",
        "\n",
        "# Gensim\n",
        "import gensim\n",
        "import gensim.corpora as corpora\n",
        "from gensim.utils import simple_preprocess\n",
        "from gensim.models import CoherenceModel\n",
        "\n",
        "# spacy for lemmatization\n",
        "import spacy\n",
        "\n",
        "# Plotting tools\n",
        "import pyLDAvis\n",
        "import pyLDAvis.gensim_models\n",
        "##import pyLDAvis.gensim.models  # don't skip this\n",
        "import matplotlib.pyplot as plt\n",
        "%matplotlib inline\n",
        "\n",
        "# Enable logging for gensim - optional\n",
        "import logging\n",
        "logging.basicConfig(format='%(asctime)s : %(levelname)s : %(message)s', level=logging.ERROR)\n",
        "\n",
        "import warnings\n",
        "warnings.filterwarnings(\"ignore\",category=DeprecationWarning)"
      ],
      "metadata": {
        "id": "yi-kFyinZ4rH"
      },
      "execution_count": null,
      "outputs": []
    },
    {
      "cell_type": "code",
      "source": [
        "# NLTK Stop words\n",
        "from nltk.corpus import stopwords\n",
        "stop_words = stopwords.words('english')\n",
        "stop_words.extend(['from', 'subject', 're', 'edu', 'use','dell',\"able\", \"support\", \"time\", \"order\" ])"
      ],
      "metadata": {
        "id": "0NEbRPMiZ4ts"
      },
      "execution_count": null,
      "outputs": []
    },
    {
      "cell_type": "code",
      "source": [
        "tokenized_reviews"
      ],
      "metadata": {
        "id": "2IupIRFraaCQ"
      },
      "execution_count": null,
      "outputs": []
    },
    {
      "cell_type": "code",
      "source": [
        "# Remove Stop Words\n",
        "data_words_nostops = remove_stopwords(tokenized_reviews)\n",
        "\n",
        "# Form Bigrams\n",
        "data_words_bigrams = make_bigrams(data_words_nostops)"
      ],
      "metadata": {
        "id": "XJJ0z88YaaGH"
      },
      "execution_count": null,
      "outputs": []
    },
    {
      "cell_type": "code",
      "source": [
        "tokenized_reviews"
      ],
      "metadata": {
        "id": "obv9857wqJjz"
      },
      "execution_count": null,
      "outputs": []
    },
    {
      "cell_type": "code",
      "source": [
        "data_words_bigrams"
      ],
      "metadata": {
        "id": "JLoTA10uIMK6"
      },
      "execution_count": null,
      "outputs": []
    },
    {
      "cell_type": "code",
      "source": [
        "# Initialize spacy 'en' model, keeping only tagger component (for efficiency)\n",
        "# python3 -m spacy download en\n",
        "nlp = spacy.load('en_core_web_sm')"
      ],
      "metadata": {
        "id": "mcf9ekuaaaJo"
      },
      "execution_count": null,
      "outputs": []
    },
    {
      "cell_type": "code",
      "source": [
        "# Do lemmatization keeping only noun, adj, vb, adv\n",
        "data_lemmatized = lemmatization(tokenized_reviews, allowed_postags=['NOUN', 'ADJ', 'VERB', 'ADV'])\n",
        "\n",
        "print(data_lemmatized[:1])"
      ],
      "metadata": {
        "colab": {
          "base_uri": "https://localhost:8080/"
        },
        "id": "oriVJvVfapMo",
        "outputId": "1b81d094-95b6-4b85-d652-82f2f5021397"
      },
      "execution_count": null,
      "outputs": [
        {
          "output_type": "stream",
          "name": "stdout",
          "text": [
            "[['information', 'correct', 'delivery', 'date']]\n"
          ]
        }
      ]
    },
    {
      "cell_type": "code",
      "source": [
        "# Create Dictionary\n",
        "id2word = corpora.Dictionary(data_lemmatized)\n",
        "\n",
        "# Create Corpus\n",
        "texts = data_lemmatized"
      ],
      "metadata": {
        "id": "5O8kQPht-YiE"
      },
      "execution_count": null,
      "outputs": []
    },
    {
      "cell_type": "code",
      "source": [
        "# Create Dictionary\n",
        "id2word = corpora.Dictionary(data_lemmatized)\n",
        "\n",
        "# Create Corpus\n",
        "texts = data_lemmatized"
      ],
      "metadata": {
        "id": "hFMV-MVKapSQ"
      },
      "execution_count": null,
      "outputs": []
    },
    {
      "cell_type": "code",
      "source": [
        "id2word"
      ],
      "metadata": {
        "colab": {
          "base_uri": "https://localhost:8080/"
        },
        "id": "yEl7uMtR7Ko1",
        "outputId": "59bc2e15-1268-4e7b-d804-9290341838cf"
      },
      "execution_count": null,
      "outputs": [
        {
          "output_type": "execute_result",
          "data": {
            "text/plain": [
              "<gensim.corpora.dictionary.Dictionary at 0x7f408f544d90>"
            ]
          },
          "metadata": {},
          "execution_count": 97
        }
      ]
    },
    {
      "cell_type": "code",
      "source": [
        "texts"
      ],
      "metadata": {
        "id": "ZZTsaMU37P4P"
      },
      "execution_count": null,
      "outputs": []
    },
    {
      "cell_type": "code",
      "source": [
        "type(texts)"
      ],
      "metadata": {
        "colab": {
          "base_uri": "https://localhost:8080/"
        },
        "id": "-kVHMNvWO-ca",
        "outputId": "f1965db8-51e9-4b4a-82ec-47489f47ca55"
      },
      "execution_count": null,
      "outputs": [
        {
          "output_type": "execute_result",
          "data": {
            "text/plain": [
              "list"
            ]
          },
          "metadata": {},
          "execution_count": 40
        }
      ]
    },
    {
      "cell_type": "code",
      "source": [
        "len(texts)"
      ],
      "metadata": {
        "colab": {
          "base_uri": "https://localhost:8080/"
        },
        "id": "HMiMYEbmPFJ3",
        "outputId": "4616a845-d102-4bdb-9454-6445fcca95ea"
      },
      "execution_count": null,
      "outputs": [
        {
          "output_type": "execute_result",
          "data": {
            "text/plain": [
              "3754"
            ]
          },
          "metadata": {},
          "execution_count": 98
        }
      ]
    },
    {
      "cell_type": "code",
      "source": [
        "# Term Document Frequency\n",
        "corpus = [id2word.doc2bow(text) for text in texts]"
      ],
      "metadata": {
        "id": "ahNkexJIavNG"
      },
      "execution_count": null,
      "outputs": []
    },
    {
      "cell_type": "code",
      "source": [
        "# Term Document Frequency\n",
        "#corpus = [id2word.doc2bow(text) for text in texts]"
      ],
      "metadata": {
        "id": "UkYyftvN-jdb"
      },
      "execution_count": null,
      "outputs": []
    },
    {
      "cell_type": "code",
      "source": [
        "# View\n",
        "print(corpus[:1])"
      ],
      "metadata": {
        "colab": {
          "base_uri": "https://localhost:8080/"
        },
        "id": "1UGrd3cravP9",
        "outputId": "1abc136a-2d88-4078-ae93-d31e2f05c874"
      },
      "execution_count": null,
      "outputs": [
        {
          "output_type": "stream",
          "name": "stdout",
          "text": [
            "[[(0, 1), (1, 1), (2, 1), (3, 1)]]\n"
          ]
        }
      ]
    },
    {
      "cell_type": "code",
      "source": [
        "# View\n",
        "#print(corpus[:1])"
      ],
      "metadata": {
        "id": "m-JY7BYz-nQU"
      },
      "execution_count": null,
      "outputs": []
    },
    {
      "cell_type": "code",
      "source": [
        "id2word[0]"
      ],
      "metadata": {
        "colab": {
          "base_uri": "https://localhost:8080/",
          "height": 35
        },
        "id": "EbcK-dYYa92U",
        "outputId": "66d47f15-7269-4f84-a137-87a63e833694"
      },
      "execution_count": null,
      "outputs": [
        {
          "output_type": "execute_result",
          "data": {
            "text/plain": [
              "'correct'"
            ],
            "application/vnd.google.colaboratory.intrinsic+json": {
              "type": "string"
            }
          },
          "metadata": {},
          "execution_count": 101
        }
      ]
    },
    {
      "cell_type": "code",
      "source": [
        "# Human readable format of corpus (term-frequency)\n",
        "[[(id2word[id], freq) for id, freq in cp] for cp in corpus[:3]]"
      ],
      "metadata": {
        "id": "WO1B4EEKa95g",
        "colab": {
          "base_uri": "https://localhost:8080/"
        },
        "outputId": "59296c55-3d63-4e55-c2c1-a8dbd500a6c4"
      },
      "execution_count": null,
      "outputs": [
        {
          "output_type": "execute_result",
          "data": {
            "text/plain": [
              "[[('correct', 1), ('date', 1), ('delivery', 1), ('information', 1)],\n",
              " [('aftersale', 1), ('customer', 1), ('loyalty', 1)],\n",
              " [('address', 1),\n",
              "  ('contact', 1),\n",
              "  ('different', 1),\n",
              "  ('email', 2),\n",
              "  ('online', 1),\n",
              "  ('price', 1),\n",
              "  ('service', 1)]]"
            ]
          },
          "metadata": {},
          "execution_count": 102
        }
      ]
    },
    {
      "cell_type": "code",
      "source": [
        "# Build LDA model\n",
        "lda_model = gensim.models.ldamodel.LdaModel(corpus=corpus,\n",
        "                                           id2word=id2word,\n",
        "                                           num_topics=15, \n",
        "                                           random_state=100,\n",
        "                                           update_every=1,\n",
        "                                           chunksize=100,\n",
        "                                           passes=10,\n",
        "                                           alpha='auto',\n",
        "                                           per_word_topics=True)"
      ],
      "metadata": {
        "id": "olz4-f8Na99M"
      },
      "execution_count": null,
      "outputs": []
    },
    {
      "cell_type": "code",
      "source": [
        "lda_model"
      ],
      "metadata": {
        "colab": {
          "base_uri": "https://localhost:8080/"
        },
        "id": "YgcaNJDTDYdX",
        "outputId": "c3d477d8-74a5-43f6-95df-bed2e616adc0"
      },
      "execution_count": null,
      "outputs": [
        {
          "output_type": "execute_result",
          "data": {
            "text/plain": [
              "<gensim.models.ldamodel.LdaModel at 0x7f408f550e90>"
            ]
          },
          "metadata": {},
          "execution_count": 104
        }
      ]
    },
    {
      "cell_type": "code",
      "source": [
        "# Print the Keyword in the 10 topics\n",
        "pprint(lda_model.print_topics())\n",
        "doc_lda = lda_model[corpus]"
      ],
      "metadata": {
        "id": "ldSEJGRIbG19"
      },
      "execution_count": null,
      "outputs": []
    },
    {
      "cell_type": "code",
      "source": [
        "type(lda_model)"
      ],
      "metadata": {
        "id": "PULfBGsFZIe8",
        "colab": {
          "base_uri": "https://localhost:8080/"
        },
        "outputId": "d4b097be-cdfb-47ed-d377-12d2b52b4dcd"
      },
      "execution_count": null,
      "outputs": [
        {
          "output_type": "execute_result",
          "data": {
            "text/plain": [
              "gensim.models.ldamodel.LdaModel"
            ]
          },
          "metadata": {},
          "execution_count": 49
        }
      ]
    },
    {
      "cell_type": "code",
      "source": [
        "# Compute Perplexity\n",
        "print('\\nPerplexity: ', lda_model.log_perplexity(corpus))  # a measure of how good the model is. lower the better.\n",
        "\n",
        "# Compute Coherence Score\n",
        "coherence_model_lda = CoherenceModel(model=lda_model, texts=data_lemmatized, dictionary=id2word, coherence='c_v')\n",
        "coherence_lda = coherence_model_lda.get_coherence()\n",
        "print('\\nCoherence Score: ', coherence_lda)"
      ],
      "metadata": {
        "colab": {
          "base_uri": "https://localhost:8080/"
        },
        "id": "R1nOAPVtbG6t",
        "outputId": "b839d951-56d7-4fc8-d3df-badeafdd1d61"
      },
      "execution_count": null,
      "outputs": [
        {
          "output_type": "stream",
          "name": "stdout",
          "text": [
            "\n",
            "Perplexity:  -6.828339462715483\n",
            "\n",
            "Coherence Score:  0.4474440520510499\n"
          ]
        }
      ]
    },
    {
      "cell_type": "code",
      "source": [
        "#print(list(nltk.bigrams(tokenized_reviews)))"
      ],
      "metadata": {
        "id": "ADezg5zjG18C"
      },
      "execution_count": null,
      "outputs": []
    },
    {
      "cell_type": "code",
      "source": [
        "\n",
        "\n",
        "# Visualize the topics\n",
        "pyLDAvis.enable_notebook()\n",
        "vis = pyLDAvis.gensim_models.prepare(lda_model, corpus, id2word)\n",
        "vis\n"
      ],
      "metadata": {
        "id": "VQPaqDkQbOMm",
        "colab": {
          "base_uri": "https://localhost:8080/",
          "height": 916
        },
        "outputId": "b025f36e-0f98-44dc-98d1-eb46f6be59cc"
      },
      "execution_count": null,
      "outputs": [
        {
          "output_type": "stream",
          "name": "stderr",
          "text": [
            "/usr/local/lib/python3.7/dist-packages/pyLDAvis/_prepare.py:247: FutureWarning: In a future version of pandas all arguments of DataFrame.drop except for the argument 'labels' will be keyword-only\n",
            "  by='saliency', ascending=False).head(R).drop('saliency', 1)\n"
          ]
        },
        {
          "output_type": "execute_result",
          "data": {
            "text/plain": [
              "PreparedData(topic_coordinates=              x         y  topics  cluster       Freq\n",
              "topic                                                \n",
              "7      0.359850  0.091467       1        1  15.243867\n",
              "5      0.065478 -0.424034       2        1  10.563456\n",
              "9      0.226558  0.066984       3        1  10.487776\n",
              "10     0.015890 -0.052242       4        1   8.211740\n",
              "0     -0.052925  0.025956       5        1   5.832596\n",
              "12    -0.051392  0.024450       6        1   5.799375\n",
              "13    -0.056167  0.025365       7        1   5.692001\n",
              "11    -0.054752  0.027520       8        1   5.572867\n",
              "3     -0.053894  0.027362       9        1   5.447063\n",
              "1     -0.060735  0.029054      10        1   5.063198\n",
              "4     -0.066418  0.034180      11        1   5.059447\n",
              "14    -0.062541  0.030347      12        1   4.749251\n",
              "6     -0.066714  0.029479      13        1   4.726749\n",
              "2     -0.071009  0.031787      14        1   3.956427\n",
              "8     -0.071229  0.032324      15        1   3.594189, topic_info=              Term        Freq       Total Category  logprob  loglift\n",
              "2         delivery  765.000000  765.000000  Default  30.0000  30.0000\n",
              "3      information  810.000000  810.000000  Default  29.0000  29.0000\n",
              "13         service  766.000000  766.000000  Default  28.0000  28.0000\n",
              "5         customer  737.000000  737.000000  Default  27.0000  27.0000\n",
              "49         product  531.000000  531.000000  Default  26.0000  26.0000\n",
              "...            ...         ...         ...      ...      ...      ...\n",
              "850   dissatisfied   10.532793   11.417854  Topic15  -4.6954   3.2452\n",
              "311     individual    9.569637   10.454698  Topic15  -4.7913   3.2374\n",
              "1998     transport    8.843793    9.728872  Topic15  -4.8702   3.2305\n",
              "1094         close    8.804021    9.689084  Topic15  -4.8747   3.2301\n",
              "204     commitment    8.476516    9.361580  Topic15  -4.9126   3.2265\n",
              "\n",
              "[485 rows x 6 columns], token_table=      Topic      Freq       Term\n",
              "term                            \n",
              "328       2  0.988493    ability\n",
              "53        8  0.987688     access\n",
              "306       6  0.992882    account\n",
              "327       8  0.989504   accurate\n",
              "1198      5  0.968033     active\n",
              "...     ...       ...        ...\n",
              "150      11  0.994814       work\n",
              "983       9  0.867426  worthless\n",
              "277      10  0.987747      wrong\n",
              "297       5  0.984005       year\n",
              "266      14  0.987171  yesterday\n",
              "\n",
              "[455 rows x 3 columns], R=30, lambda_step=0.01, plot_opts={'xlab': 'PC1', 'ylab': 'PC2'}, topic_order=[8, 6, 10, 11, 1, 13, 14, 12, 4, 2, 5, 15, 7, 3, 9])"
            ],
            "text/html": [
              "\n",
              "<link rel=\"stylesheet\" type=\"text/css\" href=\"https://cdn.jsdelivr.net/gh/bmabey/pyLDAvis@3.3.1/pyLDAvis/js/ldavis.v1.0.0.css\">\n",
              "\n",
              "\n",
              "<div id=\"ldavis_el581399152562010406775739337\"></div>\n",
              "<script type=\"text/javascript\">\n",
              "\n",
              "var ldavis_el581399152562010406775739337_data = {\"mdsDat\": {\"x\": [0.35985027880617326, 0.06547790472571738, 0.22655755584094603, 0.015889589945999608, -0.05292455075887444, -0.05139245482740185, -0.05616694516464619, -0.05475195770698344, -0.05389385959111287, -0.060734915022375, -0.06641845290597212, -0.06254081320195971, -0.0667139406631652, -0.07100877018773408, -0.07122866928861112], \"y\": [0.09146738364406226, -0.42403428543541266, 0.06698392943051137, -0.05224162511354496, 0.0259563315962352, 0.02444967338064265, 0.025364894960685346, 0.027520421408693322, 0.027361618580521278, 0.029054143746090628, 0.03418036778174335, 0.03034667302089384, 0.029478847615745134, 0.03178745505405131, 0.03232417032908225], \"topics\": [1, 2, 3, 4, 5, 6, 7, 8, 9, 10, 11, 12, 13, 14, 15], \"cluster\": [1, 1, 1, 1, 1, 1, 1, 1, 1, 1, 1, 1, 1, 1, 1], \"Freq\": [15.243866631712446, 10.563455865663016, 10.487776465370397, 8.211740326331922, 5.83259602650807, 5.799374738124323, 5.692000526939405, 5.572866568376257, 5.4470625407046525, 5.0631977784373925, 5.059447299481469, 4.749250795872963, 4.726748554023772, 3.9564269697324606, 3.5941889127214535]}, \"tinfo\": {\"Term\": [\"delivery\", \"information\", \"service\", \"customer\", \"product\", \"purchase\", \"date\", \"status\", \"laptop\", \"website\", \"email\", \"number\", \"day\", \"computer\", \"issue\", \"today\", \"site\", \"month\", \"more\", \"week\", \"contact\", \"phone\", \"item\", \"shipping\", \"invoice\", \"company\", \"account\", \"problem\", \"call\", \"hour\", \"website\", \"email\", \"number\", \"contact\", \"phone\", \"problem\", \"page\", \"detail\", \"track\", \"difficult\", \"sale\", \"case\", \"history\", \"progress\", \"department\", \"display\", \"late\", \"search\", \"right\", \"current\", \"tool\", \"useless\", \"login\", \"full\", \"line\", \"previous\", \"open\", \"reference\", \"understand\", \"incorrect\", \"site\", \"service\", \"customer\", \"request\", \"delay\", \"available\", \"monitor\", \"need\", \"arrival\", \"ability\", \"answer\", \"idea\", \"next\", \"team\", \"communication\", \"detailed\", \"schedule\", \"agent\", \"addition\", \"inform\", \"hard\", \"logistic\", \"content\", \"upgrade\", \"weekend\", \"relevant\", \"kind\", \"inaccurate\", \"section\", \"disappointing\", \"discount\", \"information\", \"status\", \"day\", \"update\", \"tracking\", \"link\", \"carrier\", \"same\", \"place\", \"clear\", \"shipment\", \"real\", \"code\", \"useful\", \"estimate\", \"solution\", \"only\", \"location\", \"word\", \"local\", \"purpose\", \"country\", \"leave\", \"completion\", \"look\", \"nonexistent\", \"overdue\", \"offer\", \"indication\", \"prediction\", \"consistency\", \"site\", \"delivery\", \"date\", \"month\", \"help\", \"ship\", \"message\", \"question\", \"correct\", \"least\", \"unacceptable\", \"forecast\", \"ready\", \"package\", \"fine\", \"query\", \"trace\", \"advance\", \"purolator\", \"fast\", \"courier\", \"name\", \"visible\", \"truck\", \"early\", \"desk\", \"factor\", \"quick\", \"mind\", \"supply\", \"standard\", \"consuming\", \"issue\", \"shipping\", \"hour\", \"other\", \"change\", \"year\", \"many\", \"desktop\", \"possible\", \"resolve\", \"original\", \"state\", \"great\", \"human\", \"fedex\", \"show\", \"garbage\", \"subscription\", \"deal\", \"active\", \"duplicate\", \"attention\", \"fall\", \"ground\", \"description\", \"well\", \"dozen\", \"store\", \"mobile\", \"speed\", \"more\", \"company\", \"account\", \"call\", \"long\", \"different\", \"response\", \"online\", \"minute\", \"hold\", \"first\", \"arrive\", \"explanation\", \"step\", \"tell\", \"supplier\", \"reply\", \"amazon\", \"verification\", \"cell\", \"button\", \"understandable\", \"ordering\", \"term\", \"final\", \"agility\", \"clarity\", \"proactive\", \"shameful\", \"transparency\", \"knowledgeable\", \"computer\", \"today\", \"week\", \"last\", \"software\", \"business\", \"frustrating\", \"notification\", \"technician\", \"processing\", \"certain\", \"tomorrow\", \"application\", \"ridiculous\", \"consumer\", \"brand\", \"additional\", \"lack\", \"knowledge\", \"disappointed\", \"happy\", \"docking_station\", \"partner\", \"function\", \"confirm\", \"half\", \"consume\", \"loop\", \"level\", \"channel\", \"item\", \"good\", \"info\", \"access\", \"easy\", \"accurate\", \"notebook\", \"helpful\", \"impossible\", \"telephone\", \"total\", \"printer\", \"equipment\", \"terrible\", \"morning\", \"transfer\", \"much\", \"specific\", \"normal\", \"none\", \"assistance\", \"satisfied\", \"pain\", \"follow\", \"design\", \"plan\", \"professional\", \"think\", \"damn\", \"live\", \"product\", \"return\", \"reason\", \"error\", \"experience\", \"warranty\", \"such\", \"cancellation\", \"defective\", \"list\", \"label\", \"stock\", \"second\", \"shopping\", \"window\", \"city\", \"queue\", \"coupon\", \"annoying\", \"authorization\", \"drive\", \"seller\", \"worthless\", \"policy\", \"reorder\", \"sorry\", \"portal\", \"frame\", \"residence\", \"physical\", \"laptop\", \"people\", \"technical\", \"several\", \"wrong\", \"thing\", \"guy\", \"money\", \"replacement\", \"screen\", \"tech\", \"black\", \"report\", \"friendly\", \"resolution\", \"staff\", \"inspiron\", \"unit\", \"dissatisfy\", \"gift\", \"single\", \"solve\", \"survey\", \"text\", \"constant\", \"bill\", \"regard\", \"personnel\", \"unprofessional\", \"video\", \"payment\", \"work\", \"part\", \"option\", \"slow\", \"card\", \"attempt\", \"complete\", \"simple\", \"sure\", \"charge\", \"confuse\", \"timely\", \"efficient\", \"fraud\", \"instruction\", \"model\", \"example\", \"device\", \"inquiry\", \"direct\", \"key\", \"folk\", \"bank\", \"doubt\", \"front\", \"activity\", \"configuration\", \"cancel\", \"figure\", \"purchase\", \"process\", \"production\", \"confirmation\", \"download\", \"situation\", \"ticket\", \"period\", \"center\", \"actual\", \"lousy\", \"install\", \"appointment\", \"license\", \"contract\", \"interaction\", \"renew\", \"stage\", \"intuitive\", \"german\", \"unclear\", \"build\", \"expectation\", \"strange\", \"less\", \"dollar\", \"matter\", \"reliable\", \"bundle\", \"promise\", \"system\", \"person\", \"chat\", \"battery\", \"talk\", \"care\", \"repair\", \"thank\", \"little\", \"poor\", \"representative\", \"hand\", \"attendant\", \"method\", \"form\", \"client\", \"office\", \"credit\", \"serial\", \"initial\", \"quality\", \"program\", \"availability\", \"clue\", \"unavailable\", \"apple\", \"recent\", \"extension\", \"provision\", \"exact\", \"unable\", \"address\", \"yesterday\", \"bad\", \"receipt\", \"price\", \"whole\", \"find\", \"fact\", \"aftersale\", \"notice\", \"improvement\", \"format\", \"nice\", \"billing\", \"complaint\", \"employee\", \"record\", \"necessary\", \"serious\", \"feedback\", \"invalid\", \"further\", \"interface\", \"mail\", \"locate\", \"assist\", \"sense\", \"suggestion\", \"important\", \"invoice\", \"deadline\", \"user\", \"machine\", \"view\", \"check\", \"point\", \"refund\", \"personal\", \"copy\", \"comment\", \"home\", \"choice\", \"basket\", \"confusing\", \"start\", \"private\", \"spec\", \"organization\", \"multiple\", \"mcafee\", \"sign\", \"difficulty\", \"most\", \"internet\", \"dissatisfied\", \"individual\", \"transport\", \"close\", \"commitment\"], \"Freq\": [765.0, 810.0, 766.0, 737.0, 531.0, 360.0, 433.0, 468.0, 346.0, 543.0, 535.0, 498.0, 354.0, 252.0, 239.0, 237.0, 414.0, 253.0, 219.0, 206.0, 303.0, 300.0, 181.0, 172.0, 144.0, 164.0, 160.0, 245.0, 152.0, 151.0, 542.860561862651, 534.7185894003808, 497.8158981280441, 302.5979013005439, 299.82273303896335, 244.4192842826003, 180.64432472318026, 150.48551288582, 131.56872512730172, 124.21471045338566, 108.61179483995116, 102.16821122048628, 92.17777485962374, 47.72527014064797, 42.556655167908495, 37.240760833685876, 36.98699010676751, 32.904295198267214, 31.40835742358852, 29.431136776587746, 28.935294893620075, 28.70559491252748, 27.3227939688156, 27.141139861165477, 27.011786637262222, 24.59115020536207, 23.741568757874987, 23.43107821997549, 22.89491732550923, 22.84134380893189, 376.8368259117164, 765.8896184365158, 736.6771583353022, 178.85642327674594, 164.66932248713513, 147.18165291528595, 77.13354086309997, 61.161673107148125, 53.37101062927847, 51.72822308482833, 50.921387583028704, 48.53910363678327, 48.05956733476105, 45.532738757726634, 41.82432700259635, 39.87310227410425, 35.69849141007884, 32.34637865175247, 31.71449481413803, 31.657183062077365, 22.435686185797813, 22.235640909845486, 19.573921154203855, 16.94701314490033, 15.809292514771393, 14.069057006958687, 13.434994477162023, 12.843844768544676, 12.585032386774913, 12.329187506811639, 12.065717204210587, 809.556058112721, 467.4860595839269, 354.0816682972828, 141.18196656137818, 132.40971553609742, 116.17514299248785, 115.42329841442013, 108.0059865746703, 99.76388365244081, 87.91433393446856, 76.9435380441877, 46.64675840354684, 36.974924670224496, 30.5292116507694, 27.478696974771275, 24.8702642416732, 18.591083587063565, 17.68738929751201, 16.733428770315772, 15.809502367101738, 15.375781423096965, 14.216327967825373, 13.608260304631091, 13.581672077533419, 11.326575345707884, 11.255470046654011, 10.260546420242935, 9.955265800500301, 9.360543939308124, 9.76888585275834, 9.518109140669978, 36.92228702899655, 764.3088811306617, 433.10430545250745, 252.64786718537368, 138.4997194086058, 111.99468144607307, 82.41012903900355, 68.25373521709261, 54.302444172257594, 49.41778000988181, 37.45554930504742, 29.262566556135653, 21.228667231232386, 19.156572398139776, 18.790656976081422, 17.145796231341233, 17.072541034735757, 13.420257094929417, 11.0428885344572, 10.72009816653122, 10.333391621656743, 10.247648628904555, 9.90940012922987, 9.815347064620074, 9.242221913972887, 8.961995523161152, 8.806314126799194, 8.690958531468226, 8.383254696741238, 7.965127225652495, 7.931723214108571, 8.176368123986894, 238.89508601371472, 171.58160092352037, 150.59360285633798, 143.25002165108677, 80.44407621547244, 78.39413912202438, 64.00227285157507, 58.921743702724214, 54.81599146758895, 37.477303168865525, 30.973990178915628, 28.35631446179333, 25.622025514992007, 23.834001289410057, 20.698174052060892, 20.04991975635895, 19.757395393054075, 17.66779802451276, 17.353761468067024, 13.588575403659076, 12.589457028770498, 11.914428345290347, 11.438431002366107, 11.115846537299895, 10.719296051170767, 10.698153195974989, 10.618454597042781, 10.368522564310284, 9.536555741972707, 8.994950391153129, 218.98875232892584, 163.68731765576055, 159.2664822146559, 151.8118482442247, 73.75973082525505, 69.9260821962781, 61.04668318945776, 52.60291063963586, 49.79053012426839, 45.101499337845816, 43.27163332709805, 41.611443407346506, 36.143820535287574, 21.349119293485003, 21.0933163725687, 20.781508493121706, 16.37366829493861, 16.30633623783898, 15.96292195978535, 14.97037780220432, 14.432341486298496, 13.453590266835702, 13.092899521802828, 12.458867821068338, 11.072453648537113, 10.69960519723324, 10.605528265021961, 10.448922769262309, 10.328856217326454, 9.129903014367262, 9.95590036732075, 251.45384969073757, 236.76469509798594, 205.20201376892828, 83.65379555444329, 79.11676212329833, 64.87609068668301, 54.93183171239809, 32.36546869478605, 26.318967465972356, 23.95211319997709, 20.49284844040905, 19.567339756136114, 18.393450549450236, 17.088157280962385, 16.957963736724395, 16.587470554879122, 16.541380778696357, 16.251774652503126, 15.773436596895445, 15.299177237405747, 14.258741641571545, 12.935647644298655, 12.446932630893505, 12.363566734499477, 12.080153459748415, 12.013336120530045, 11.420291324743868, 11.383418993748121, 10.585437144725658, 10.269175829813058, 180.19665019246668, 123.56728709168831, 105.89954902320198, 101.38175091245871, 94.207675090851, 89.06677787337738, 77.07770973029238, 61.507502949859585, 49.71699263265784, 44.86953766136689, 36.76728839798869, 35.5334946387589, 34.84827005688003, 34.32515897440402, 31.958927765407825, 25.98987342828734, 22.85408665777631, 21.610939620456932, 18.17485586107362, 17.253775197010864, 15.534478223587309, 15.104368920812867, 14.467438814323414, 14.177352362522052, 12.189558546982472, 11.71560336032857, 11.458901735963533, 10.019565570878276, 9.958235765230894, 9.665726516444414, 530.1690108792483, 134.31877151524873, 130.09996402404363, 57.67854904028374, 56.25132840800064, 47.36871490677339, 44.659145302679676, 35.62560443333323, 27.79770582093659, 26.830797065979656, 24.28455747895487, 21.697292994479287, 19.060439065252453, 18.49603800135828, 14.624325710342298, 12.329118146025458, 11.989976553260039, 11.634045909660006, 11.592750116098738, 11.396993102454628, 9.616955911589173, 8.95637859345902, 8.342419811385092, 8.304269015911167, 8.291375825355988, 7.944222866536722, 7.866490325864187, 7.824352557905504, 6.870849499658697, 6.646791570737654, 345.60456765949954, 102.7557324872083, 71.56793477218098, 66.15056141206932, 52.77599350260378, 46.992475210754755, 42.35407479970451, 41.55945209783597, 35.779862879990894, 33.369870515592226, 22.021854853911442, 21.70150526086297, 20.017287574870146, 19.088348918608485, 18.162769182039966, 17.274415833695993, 16.82122331091947, 16.151645884597148, 15.296349387515095, 14.610978535548696, 12.32767990345695, 12.193276989188838, 11.99791293403333, 11.350664535090301, 10.165086114890116, 9.910040363268823, 9.84190465460823, 9.640255290922916, 9.624452791204927, 9.389109878738191, 135.47885517607162, 117.73641604487567, 114.35569600049375, 65.96702616093282, 58.57035153955865, 50.21387348239536, 47.131626500858815, 46.58816264233278, 30.960477942011845, 28.588576418279757, 26.96792015677557, 26.234987924033454, 24.74265585676559, 23.906871134027362, 23.193921834846105, 22.71205401269663, 21.23267163594401, 16.98884240223429, 16.979333771971497, 16.08538953943294, 15.95599388638283, 14.748165114295158, 14.249515133997503, 14.12933039980495, 13.54311548573153, 12.90228790788874, 12.56083181639596, 11.981462753417652, 11.931961809588508, 11.027461667579889, 359.8014727697272, 138.75058319260674, 109.68252951827631, 81.38072582835429, 60.89802094333291, 42.33124175652088, 39.67511672355558, 24.112753116646996, 23.38638059969559, 17.903398343669032, 17.22418907813319, 16.08801958494547, 16.046814334430596, 14.308547711650089, 13.614349818134073, 11.973585880093424, 11.503115885399222, 11.107520229881205, 10.999105182777397, 10.313648527725684, 10.091761225610691, 9.923673962343145, 9.387458136995605, 8.646145223499884, 8.594389346390033, 8.481646237203362, 8.184415757984164, 7.875054363359658, 9.399942986025843, 7.047007851752084, 138.06743355507678, 112.79144922609845, 90.13432872595452, 61.77923429185002, 46.81308111206879, 46.46118023267084, 46.33949284984206, 37.588934655384485, 36.27805982989581, 35.434363465983644, 33.4044445451749, 29.6495240265593, 25.343261822499116, 20.198993011491613, 19.26882928391816, 18.429913445336748, 18.070014433629662, 17.839436679666726, 17.40777754953478, 16.823539750621, 15.90336768806993, 15.833409090708878, 15.830126538613774, 12.917045800682361, 11.930941738006899, 11.695181081359609, 11.261035682737567, 11.153418094706094, 9.95768672561145, 9.909239786313641, 102.60287960724284, 101.40415888383238, 68.00444181827336, 49.49160729604727, 36.57626931270372, 36.138283020024424, 33.99078147134525, 32.701497744245906, 32.35878495102375, 26.926207761474398, 25.70967318628006, 23.314136736744256, 22.073170453192475, 19.738661277105766, 18.332165856007947, 18.072087637947547, 17.92307832487324, 15.906451980496731, 15.16073772066734, 13.960335352631143, 12.23326977735022, 12.17755806084181, 12.040529431685844, 11.90451238917755, 11.69174357329735, 11.588221388325314, 10.753531228624578, 10.466157897478572, 10.34111704280156, 9.727011269418382, 143.73783054614836, 49.63352553359535, 42.711714033504755, 40.17593517796185, 37.86143030247742, 34.26716884652997, 28.152665122135005, 26.918481242210916, 25.354074031427544, 21.25437965642863, 19.642104469870688, 19.23393625444298, 15.807075297789694, 14.58685094260313, 14.31672667767719, 13.922178741442359, 13.921810509727758, 13.388404863108745, 13.054455199067581, 12.889254428004374, 12.390824352901458, 12.095404823662241, 12.095366175435634, 11.092467239822696, 10.799411693777515, 10.53279260829232, 9.569636932372, 8.843792640208655, 8.804021467907932, 8.47651639565323], \"Total\": [765.0, 810.0, 766.0, 737.0, 531.0, 360.0, 433.0, 468.0, 346.0, 543.0, 535.0, 498.0, 354.0, 252.0, 239.0, 237.0, 414.0, 253.0, 219.0, 206.0, 303.0, 300.0, 181.0, 172.0, 144.0, 164.0, 160.0, 245.0, 152.0, 151.0, 543.731339470002, 535.5893668292226, 498.68667505030817, 303.4686784222607, 300.69351030546335, 245.2900621337948, 181.51510219393057, 151.35628987636036, 132.4395023225587, 125.08548799933034, 109.48257231407284, 103.03898935446163, 93.04855180612117, 48.59604794002873, 43.42743315530594, 38.11153859624304, 37.857768813315694, 33.775072521951486, 32.27913718433936, 30.30191411133246, 29.806073140975748, 29.576371977916562, 28.193571071748618, 28.011918511931963, 27.882564149330197, 25.4619287456934, 24.612346099990116, 24.301855186759195, 23.76569484356383, 23.71212166033207, 414.5656975773675, 766.7667279882405, 737.5542679666846, 179.7335327738378, 165.54643280791547, 148.05876274070607, 78.01065089042277, 62.03878344446766, 54.24812122489172, 52.6053326570546, 51.798497115079996, 49.41621351292404, 48.936677428717594, 46.40984993315292, 42.7014364334205, 40.75021240876041, 36.57560119596271, 33.22348802613587, 32.59160547410267, 32.53429334339337, 23.31279636726414, 23.112751281908352, 20.45103124691595, 17.824123481730012, 16.686402273305514, 14.946188852784799, 14.312104681837582, 13.720955700107218, 13.46214469440964, 13.20629743807273, 12.942832041204834, 810.4318650207713, 468.3618663825726, 354.9574754530046, 142.0577733352322, 133.2855221261916, 117.0509496096767, 116.29910540154196, 108.88179347762096, 100.6396914448329, 88.79014152376332, 77.81934481853705, 47.522565185456855, 37.85073226153512, 31.405018936290794, 28.354504162493924, 25.746071129106998, 19.46689114874071, 18.563196204106216, 17.60924010044326, 16.685308639041768, 16.251591421112764, 15.092136585688486, 14.484069814629608, 14.457484274982894, 12.202382170276438, 12.131278109065391, 11.1363539711412, 10.831073960520609, 10.236351680686791, 10.688618060575699, 10.669908299088085, 414.5656975773675, 765.1866509316219, 433.98207488335214, 253.5256372060274, 139.37748973001447, 112.87245093566247, 83.28789887612443, 69.13150524343803, 55.18243911226905, 50.295552540855354, 38.33331938508943, 30.14033617957967, 22.10643760863347, 20.034341600864135, 19.66842813939769, 18.023565875863053, 17.95031238274129, 14.298028211913763, 11.9206592134449, 11.597868328442885, 11.211161119323371, 11.125418381291036, 10.787170490977072, 10.693130788154043, 10.119991664902102, 9.839767351343912, 9.69295997066472, 9.568728202421692, 9.261040676872051, 8.842897195180518, 8.809493108191486, 9.668791598103605, 239.76882202180724, 172.45533693405062, 151.46733938038327, 144.12375799609822, 81.31781241577258, 79.2678752381976, 64.87600869189464, 59.795480199912234, 55.68972768784936, 38.351039141243206, 31.847726490669928, 29.230051032500867, 26.495762024259985, 24.707737549278708, 21.57191234361591, 20.92365555859839, 20.631133593380767, 18.541534700855124, 18.227501371286888, 14.46231260825413, 13.466331445367011, 12.788164506727556, 12.312253220704982, 11.98958479633098, 11.593032140623755, 11.57188870657876, 11.492243536324105, 11.242258161777299, 10.410291601800273, 9.868685770150856, 219.86211556833808, 164.5606809107092, 160.1398451510458, 152.68521122351638, 74.63309388621646, 70.79944532134616, 61.920046288596495, 53.47627350029638, 50.663893109682164, 45.97486289836497, 44.14499693273019, 42.48480650106386, 37.017184210028915, 22.222482818486572, 21.966681117471527, 21.654874669729406, 17.247031655335928, 17.179701210554835, 16.836285910809437, 15.84374504828846, 15.305704128920157, 14.326954748444408, 13.966266132623028, 13.332233912360707, 11.945944943906639, 11.572970391415556, 11.478891701636119, 11.322389608962114, 11.2024431209306, 10.003266192222283, 11.033163110704669, 252.32843153675685, 237.6392773784987, 206.0765959918232, 84.52837732896197, 79.99134427720809, 65.75067284456865, 55.806415045593035, 33.24005056557712, 27.193551162380093, 24.826695663174107, 21.367432444448298, 20.441921138834818, 19.268033795791354, 17.96273987897955, 17.832545784008875, 17.46205247523503, 17.415962989270607, 17.126356498003666, 16.648021877341986, 16.173758873368016, 15.13332374569669, 13.810233351222596, 13.32151444659909, 13.238148566324188, 12.954743892043606, 12.887924923263185, 12.297160101332791, 12.25800110160527, 11.46001925209746, 11.143758474075288, 181.07395215709985, 124.44458902969815, 106.7768504962107, 102.25905270963126, 95.08497654535576, 89.94407978912479, 77.9550120555452, 62.38480491783884, 50.594294120687685, 45.74683934759069, 37.644591481850526, 36.41079748224393, 35.72557222685596, 35.20246074311783, 32.836230710881004, 26.867176208475104, 23.731388221292615, 22.488241781368707, 19.052159846076357, 18.13107733035077, 16.4117800023652, 15.981672599006476, 15.344750971017264, 15.054654345983334, 13.066860236699197, 12.592909581917512, 12.336205489251634, 10.89687103430558, 10.835537775977972, 10.543027873780417, 531.049278808449, 135.19903913521114, 130.9802322912157, 58.55881689923936, 57.13159599777112, 48.248982852835056, 45.53941298135326, 36.50587205250526, 28.677975171657106, 27.711065717460638, 25.164824490672753, 22.577560979227236, 19.940707792761852, 19.376305790039936, 15.504594949677916, 13.209388623716098, 12.870246862538634, 12.514319038746555, 12.473018405609029, 12.27726081123911, 10.497224298346666, 9.836652084625797, 9.222691754600424, 9.184536539340838, 9.17164406901956, 8.82449125089189, 8.746758537005094, 8.704625141035612, 7.752374218668983, 7.5270681646909505, 346.4860295516168, 103.63719463796888, 72.44939751753152, 67.0320239266317, 53.6574557081173, 47.87393733203998, 43.235537264999735, 42.440913971234544, 36.66132476850779, 34.25133211794802, 22.903316465502773, 22.58296941146604, 20.89875102901306, 19.96981130357329, 19.044231531478772, 18.15587738129061, 17.702685599270403, 17.033111333403333, 16.177813240997704, 15.492441998960267, 13.209143523410653, 13.074739315447413, 12.879375315249495, 12.232127385123531, 11.046560122287062, 10.791504185701527, 10.723374887236616, 10.521719307775465, 10.505954580363102, 10.270572671181514, 136.35757070964718, 118.61513216157482, 115.23441162064695, 66.84574167022859, 59.44906826103833, 51.09258921328467, 48.01034310652163, 47.46687857621262, 31.839193956775034, 29.46729189171863, 27.846636991430174, 27.113705273259328, 25.62137218958876, 24.785589011668375, 24.072637814343032, 23.590769855571303, 22.111387778295764, 17.867558431159047, 17.858049803328022, 16.96410558325818, 16.834709358366982, 15.626882718081312, 15.128253847945112, 15.008045709209068, 14.421831561854592, 13.781003793688203, 13.439549793749647, 12.860179769030697, 12.810683566740373, 11.90618153369056, 360.67833763032706, 139.62744803926248, 110.559393810699, 82.25759014031475, 61.77488621359564, 43.208107258764, 40.55198144232336, 24.98962034118877, 24.263245482328564, 18.780262671898612, 18.101055458832597, 16.964888014921325, 16.92368000324376, 15.18541296780659, 14.491214340433684, 12.850460789704574, 12.379983864340641, 11.984386065153357, 11.87596935787594, 11.190515457808301, 10.96862737066235, 10.800541237911624, 10.264322868926795, 9.523011090395988, 9.4712538050207, 9.358513831064615, 9.06128009048078, 8.75192155537766, 10.515337883343566, 7.923873955489904, 138.94536841311077, 113.66938445006501, 91.01226373925768, 62.65716891726645, 47.69101600283447, 47.33911586606059, 47.21742721379495, 38.46687049303054, 37.155994789090464, 36.312298078168574, 34.28237956141245, 30.52746072692061, 26.221197923753248, 21.076928000051215, 20.14676539752087, 19.307848202841864, 18.947949349200037, 18.71737276138483, 18.285713766149616, 17.701479463649132, 16.781303004057932, 16.711347838833227, 16.70806186449825, 13.794983866251586, 12.808876765778612, 12.57311636197273, 12.138970797287895, 12.031354423661654, 10.835696859478512, 10.787175521146544, 103.48212315660047, 102.28340245414007, 68.88368586023361, 50.370851075426636, 37.455513287402084, 37.017526951894766, 34.870026156801636, 33.580741224126, 33.23802981999102, 27.805452556967552, 26.588916808202562, 24.193380715088225, 22.95242014839114, 20.617905114747096, 19.211409467979827, 18.95133129112075, 18.802322243254785, 16.78569596743368, 16.03998157691253, 14.839595162806983, 13.112513005077087, 13.05680246275558, 12.919773345301351, 12.783756970877524, 12.570986624198765, 12.467466177943386, 11.63277591017784, 11.345401459560387, 11.220364464111585, 10.606254529357384, 144.62289191110577, 50.51858725235015, 43.596775407877125, 41.06099781192631, 38.746491404935625, 35.1522302814036, 29.037726431840234, 27.803542260657544, 26.2391352120153, 22.139444256986643, 20.52716994060981, 20.11899717928627, 16.692138947674696, 15.47193893733407, 15.201787597465259, 14.807240401596637, 14.806874772495755, 14.273467052342944, 13.939519143339435, 13.774315297610661, 13.275893490250603, 12.980465586307488, 12.980427130600178, 11.977528808519397, 11.684473466877153, 11.417853933184897, 10.454697681709314, 9.728871735647624, 9.689083650476979, 9.3615798984459], \"Category\": [\"Default\", \"Default\", \"Default\", \"Default\", \"Default\", \"Default\", \"Default\", \"Default\", \"Default\", \"Default\", \"Default\", \"Default\", \"Default\", \"Default\", \"Default\", \"Default\", \"Default\", \"Default\", \"Default\", \"Default\", \"Default\", \"Default\", \"Default\", \"Default\", \"Default\", \"Default\", \"Default\", \"Default\", \"Default\", \"Default\", \"Topic1\", \"Topic1\", \"Topic1\", \"Topic1\", \"Topic1\", \"Topic1\", \"Topic1\", \"Topic1\", \"Topic1\", \"Topic1\", \"Topic1\", \"Topic1\", \"Topic1\", \"Topic1\", \"Topic1\", \"Topic1\", \"Topic1\", \"Topic1\", \"Topic1\", \"Topic1\", \"Topic1\", \"Topic1\", \"Topic1\", \"Topic1\", \"Topic1\", \"Topic1\", \"Topic1\", \"Topic1\", \"Topic1\", \"Topic1\", \"Topic1\", \"Topic2\", \"Topic2\", \"Topic2\", \"Topic2\", \"Topic2\", \"Topic2\", \"Topic2\", \"Topic2\", \"Topic2\", \"Topic2\", \"Topic2\", \"Topic2\", \"Topic2\", \"Topic2\", \"Topic2\", \"Topic2\", \"Topic2\", \"Topic2\", \"Topic2\", \"Topic2\", \"Topic2\", \"Topic2\", \"Topic2\", \"Topic2\", \"Topic2\", \"Topic2\", \"Topic2\", \"Topic2\", \"Topic2\", \"Topic2\", \"Topic3\", \"Topic3\", \"Topic3\", \"Topic3\", \"Topic3\", \"Topic3\", \"Topic3\", \"Topic3\", \"Topic3\", \"Topic3\", \"Topic3\", \"Topic3\", \"Topic3\", \"Topic3\", \"Topic3\", \"Topic3\", \"Topic3\", \"Topic3\", \"Topic3\", \"Topic3\", \"Topic3\", \"Topic3\", \"Topic3\", \"Topic3\", \"Topic3\", \"Topic3\", \"Topic3\", \"Topic3\", \"Topic3\", \"Topic3\", \"Topic3\", \"Topic3\", \"Topic4\", \"Topic4\", \"Topic4\", \"Topic4\", \"Topic4\", \"Topic4\", \"Topic4\", \"Topic4\", \"Topic4\", \"Topic4\", \"Topic4\", \"Topic4\", \"Topic4\", \"Topic4\", \"Topic4\", \"Topic4\", \"Topic4\", \"Topic4\", \"Topic4\", \"Topic4\", \"Topic4\", \"Topic4\", \"Topic4\", \"Topic4\", \"Topic4\", \"Topic4\", \"Topic4\", \"Topic4\", \"Topic4\", \"Topic4\", \"Topic4\", \"Topic5\", \"Topic5\", \"Topic5\", \"Topic5\", \"Topic5\", \"Topic5\", \"Topic5\", \"Topic5\", \"Topic5\", \"Topic5\", \"Topic5\", \"Topic5\", \"Topic5\", \"Topic5\", \"Topic5\", \"Topic5\", \"Topic5\", \"Topic5\", \"Topic5\", \"Topic5\", \"Topic5\", \"Topic5\", \"Topic5\", \"Topic5\", \"Topic5\", \"Topic5\", \"Topic5\", \"Topic5\", \"Topic5\", \"Topic5\", \"Topic6\", \"Topic6\", \"Topic6\", \"Topic6\", \"Topic6\", \"Topic6\", \"Topic6\", \"Topic6\", \"Topic6\", \"Topic6\", \"Topic6\", \"Topic6\", \"Topic6\", \"Topic6\", \"Topic6\", \"Topic6\", \"Topic6\", \"Topic6\", \"Topic6\", \"Topic6\", \"Topic6\", \"Topic6\", \"Topic6\", \"Topic6\", \"Topic6\", \"Topic6\", \"Topic6\", \"Topic6\", \"Topic6\", \"Topic6\", \"Topic6\", \"Topic7\", \"Topic7\", \"Topic7\", \"Topic7\", \"Topic7\", \"Topic7\", \"Topic7\", \"Topic7\", \"Topic7\", \"Topic7\", \"Topic7\", \"Topic7\", \"Topic7\", \"Topic7\", \"Topic7\", \"Topic7\", \"Topic7\", \"Topic7\", \"Topic7\", \"Topic7\", \"Topic7\", \"Topic7\", \"Topic7\", \"Topic7\", \"Topic7\", \"Topic7\", \"Topic7\", \"Topic7\", \"Topic7\", \"Topic7\", \"Topic8\", \"Topic8\", \"Topic8\", \"Topic8\", \"Topic8\", \"Topic8\", \"Topic8\", \"Topic8\", \"Topic8\", \"Topic8\", \"Topic8\", \"Topic8\", \"Topic8\", \"Topic8\", \"Topic8\", \"Topic8\", \"Topic8\", \"Topic8\", \"Topic8\", \"Topic8\", \"Topic8\", \"Topic8\", \"Topic8\", \"Topic8\", \"Topic8\", \"Topic8\", \"Topic8\", \"Topic8\", \"Topic8\", \"Topic8\", \"Topic9\", \"Topic9\", \"Topic9\", \"Topic9\", \"Topic9\", \"Topic9\", \"Topic9\", \"Topic9\", \"Topic9\", \"Topic9\", \"Topic9\", \"Topic9\", \"Topic9\", \"Topic9\", \"Topic9\", \"Topic9\", \"Topic9\", \"Topic9\", \"Topic9\", \"Topic9\", \"Topic9\", \"Topic9\", \"Topic9\", \"Topic9\", \"Topic9\", \"Topic9\", \"Topic9\", \"Topic9\", \"Topic9\", \"Topic9\", \"Topic10\", \"Topic10\", \"Topic10\", \"Topic10\", \"Topic10\", \"Topic10\", \"Topic10\", \"Topic10\", \"Topic10\", \"Topic10\", \"Topic10\", \"Topic10\", \"Topic10\", \"Topic10\", \"Topic10\", \"Topic10\", \"Topic10\", \"Topic10\", \"Topic10\", \"Topic10\", \"Topic10\", \"Topic10\", \"Topic10\", \"Topic10\", \"Topic10\", \"Topic10\", \"Topic10\", \"Topic10\", \"Topic10\", \"Topic10\", \"Topic11\", \"Topic11\", \"Topic11\", \"Topic11\", \"Topic11\", \"Topic11\", \"Topic11\", \"Topic11\", \"Topic11\", \"Topic11\", \"Topic11\", \"Topic11\", \"Topic11\", \"Topic11\", \"Topic11\", \"Topic11\", \"Topic11\", \"Topic11\", \"Topic11\", \"Topic11\", \"Topic11\", \"Topic11\", \"Topic11\", \"Topic11\", \"Topic11\", \"Topic11\", \"Topic11\", \"Topic11\", \"Topic11\", \"Topic11\", \"Topic12\", \"Topic12\", \"Topic12\", \"Topic12\", \"Topic12\", \"Topic12\", \"Topic12\", \"Topic12\", \"Topic12\", \"Topic12\", \"Topic12\", \"Topic12\", \"Topic12\", \"Topic12\", \"Topic12\", \"Topic12\", \"Topic12\", \"Topic12\", \"Topic12\", \"Topic12\", \"Topic12\", \"Topic12\", \"Topic12\", \"Topic12\", \"Topic12\", \"Topic12\", \"Topic12\", \"Topic12\", \"Topic12\", \"Topic12\", \"Topic13\", \"Topic13\", \"Topic13\", \"Topic13\", \"Topic13\", \"Topic13\", \"Topic13\", \"Topic13\", \"Topic13\", \"Topic13\", \"Topic13\", \"Topic13\", \"Topic13\", \"Topic13\", \"Topic13\", \"Topic13\", \"Topic13\", \"Topic13\", \"Topic13\", \"Topic13\", \"Topic13\", \"Topic13\", \"Topic13\", \"Topic13\", \"Topic13\", \"Topic13\", \"Topic13\", \"Topic13\", \"Topic13\", \"Topic13\", \"Topic14\", \"Topic14\", \"Topic14\", \"Topic14\", \"Topic14\", \"Topic14\", \"Topic14\", \"Topic14\", \"Topic14\", \"Topic14\", \"Topic14\", \"Topic14\", \"Topic14\", \"Topic14\", \"Topic14\", \"Topic14\", \"Topic14\", \"Topic14\", \"Topic14\", \"Topic14\", \"Topic14\", \"Topic14\", \"Topic14\", \"Topic14\", \"Topic14\", \"Topic14\", \"Topic14\", \"Topic14\", \"Topic14\", \"Topic14\", \"Topic15\", \"Topic15\", \"Topic15\", \"Topic15\", \"Topic15\", \"Topic15\", \"Topic15\", \"Topic15\", \"Topic15\", \"Topic15\", \"Topic15\", \"Topic15\", \"Topic15\", \"Topic15\", \"Topic15\", \"Topic15\", \"Topic15\", \"Topic15\", \"Topic15\", \"Topic15\", \"Topic15\", \"Topic15\", \"Topic15\", \"Topic15\", \"Topic15\", \"Topic15\", \"Topic15\", \"Topic15\", \"Topic15\", \"Topic15\"], \"logprob\": [30.0, 29.0, 28.0, 27.0, 26.0, 25.0, 24.0, 23.0, 22.0, 21.0, 20.0, 19.0, 18.0, 17.0, 16.0, 15.0, 14.0, 13.0, 12.0, 11.0, 10.0, 9.0, 8.0, 7.0, 6.0, 5.0, 4.0, 3.0, 2.0, 1.0, -2.1979, -2.213, -2.2845, -2.7823, -2.7916, -2.9959, -3.2982, -3.4809, -3.6152, -3.6727, -3.807, -3.8681, -3.971, -4.6293, -4.7439, -4.8773, -4.8842, -5.0011, -5.0477, -5.1127, -5.1297, -5.1377, -5.187, -5.1937, -5.1985, -5.2924, -5.3275, -5.3407, -5.3638, -5.3662, -2.5629, -1.4869, -1.5258, -2.9414, -3.024, -3.1363, -3.7824, -4.0144, -4.1507, -4.182, -4.1977, -4.2456, -4.2555, -4.3095, -4.3945, -4.4423, -4.5529, -4.6515, -4.6712, -4.673, -5.0173, -5.0263, -5.1538, -5.2979, -5.3674, -5.484, -5.5301, -5.5751, -5.5955, -5.616, -5.6376, -1.4243, -1.9734, -2.2513, -3.1707, -3.2349, -3.3657, -3.3722, -3.4386, -3.518, -3.6444, -3.7777, -4.2782, -4.5105, -4.7021, -4.8074, -4.9071, -5.1981, -5.2479, -5.3034, -5.3602, -5.388, -5.4664, -5.5101, -5.5121, -5.6936, -5.6999, -5.7925, -5.8227, -5.8843, -5.8416, -5.8676, -4.512, -1.2372, -1.8052, -2.3441, -2.9453, -3.1577, -3.4644, -3.6529, -3.8816, -3.9758, -4.253, -4.4998, -4.8208, -4.9235, -4.9428, -5.0344, -5.0387, -5.2794, -5.4743, -5.504, -5.5408, -5.5491, -5.5826, -5.5922, -5.6524, -5.6831, -5.7007, -5.7139, -5.7499, -5.8011, -5.8053, -5.7749, -2.058, -2.389, -2.5194, -2.5694, -3.1465, -3.1723, -3.3751, -3.4578, -3.53, -3.9103, -4.1009, -4.1892, -4.2906, -4.3629, -4.504, -4.5358, -4.5505, -4.6623, -4.6802, -4.9248, -5.0012, -5.0563, -5.0971, -5.1257, -5.162, -5.164, -5.1714, -5.1953, -5.2789, -5.3374, -2.1393, -2.4304, -2.4577, -2.5057, -3.2275, -3.2809, -3.4167, -3.5655, -3.6205, -3.7194, -3.7608, -3.7999, -3.9408, -4.4673, -4.4794, -4.4943, -4.7326, -4.7368, -4.758, -4.8222, -4.8588, -4.9291, -4.9562, -5.0059, -5.1239, -5.1581, -5.1669, -5.1818, -5.1934, -5.3168, -5.2302, -1.9824, -2.0426, -2.1856, -3.0829, -3.1387, -3.3372, -3.5035, -4.0325, -4.2393, -4.3336, -4.4896, -4.5358, -4.5976, -4.6712, -4.6789, -4.701, -4.7038, -4.7214, -4.7513, -4.7818, -4.8523, -4.9496, -4.9882, -4.9949, -5.0181, -5.0236, -5.0742, -5.0775, -5.1502, -5.1805, -2.2944, -2.6717, -2.826, -2.8696, -2.943, -2.9991, -3.1437, -3.3693, -3.5821, -3.6847, -3.8839, -3.918, -3.9375, -3.9526, -4.024, -4.2308, -4.3593, -4.4153, -4.5884, -4.6404, -4.7454, -4.7735, -4.8166, -4.8368, -4.9879, -5.0276, -5.0497, -5.1839, -5.1901, -5.2199, -1.1924, -2.5654, -2.5973, -3.4108, -3.4358, -3.6077, -3.6666, -3.8926, -4.1407, -4.1761, -4.2758, -4.3885, -4.518, -4.5481, -4.783, -4.9537, -4.9816, -5.0117, -5.0153, -5.0323, -5.2021, -5.2733, -5.3443, -5.3489, -5.3504, -5.3932, -5.403, -5.4084, -5.5384, -5.5715, -1.5473, -2.7602, -3.1219, -3.2006, -3.4265, -3.5426, -3.6465, -3.6654, -3.8152, -3.8849, -4.3005, -4.3152, -4.396, -4.4435, -4.4932, -4.5433, -4.5699, -4.6105, -4.665, -4.7108, -4.8807, -4.8917, -4.9078, -4.9633, -5.0736, -5.099, -5.1059, -5.1266, -5.1283, -5.153, -2.483, -2.6234, -2.6525, -3.2027, -3.3216, -3.4755, -3.5389, -3.5505, -3.9591, -4.0388, -4.0972, -4.1247, -4.1833, -4.2177, -4.2479, -4.2689, -4.3363, -4.5593, -4.5598, -4.6139, -4.622, -4.7007, -4.7351, -4.7436, -4.7859, -4.8344, -4.8612, -4.9085, -4.9126, -4.9914, -1.443, -2.3959, -2.631, -2.9294, -3.2194, -3.583, -3.6478, -4.1458, -4.1764, -4.4436, -4.4822, -4.5505, -4.553, -4.6677, -4.7174, -4.8459, -4.8859, -4.9209, -4.9307, -4.9951, -5.0168, -5.0336, -5.0892, -5.1714, -5.1774, -5.1907, -5.2263, -5.2649, -5.0879, -5.376, -2.3961, -2.5983, -2.8225, -3.2002, -3.4776, -3.4852, -3.4878, -3.6971, -3.7326, -3.7561, -3.8151, -3.9344, -4.0913, -4.3182, -4.3653, -4.4098, -4.4296, -4.4424, -4.4669, -4.501, -4.5573, -4.5617, -4.5619, -4.7653, -4.8447, -4.8646, -4.9025, -4.9121, -5.0255, -5.0303, -2.515, -2.5268, -2.9263, -3.2441, -3.5465, -3.5586, -3.6198, -3.6585, -3.669, -3.8528, -3.899, -3.9968, -4.0515, -4.1633, -4.2373, -4.2515, -4.2598, -4.3792, -4.4272, -4.5097, -4.6418, -4.6463, -4.6576, -4.669, -4.687, -4.6959, -4.7707, -4.7978, -4.8098, -4.871, -2.0819, -3.1452, -3.2954, -3.3566, -3.416, -3.5157, -3.7122, -3.7571, -3.8169, -3.9933, -4.0722, -4.0932, -4.2894, -4.3698, -4.3885, -4.4164, -4.4164, -4.4555, -4.4808, -4.4935, -4.5329, -4.5571, -4.5571, -4.6436, -4.6704, -4.6954, -4.7913, -4.8702, -4.8747, -4.9126], \"loglift\": [30.0, 29.0, 28.0, 27.0, 26.0, 25.0, 24.0, 23.0, 22.0, 21.0, 20.0, 19.0, 18.0, 17.0, 16.0, 15.0, 14.0, 13.0, 12.0, 11.0, 10.0, 9.0, 8.0, 7.0, 6.0, 5.0, 4.0, 3.0, 2.0, 1.0, 1.8794, 1.8794, 1.8792, 1.8781, 1.8781, 1.8774, 1.8762, 1.8752, 1.8744, 1.874, 1.873, 1.8725, 1.8716, 1.8629, 1.8607, 1.8579, 1.8577, 1.8549, 1.8536, 1.8518, 1.8513, 1.8511, 1.8496, 1.8494, 1.8493, 1.8462, 1.845, 1.8445, 1.8437, 1.8436, 1.7856, 2.2466, 2.2466, 2.2429, 2.2425, 2.2418, 2.2365, 2.2335, 2.2315, 2.231, 2.2307, 2.2299, 2.2297, 2.2287, 2.227, 2.226, 2.2235, 2.221, 2.2205, 2.2204, 2.2094, 2.2091, 2.2039, 2.1973, 2.1938, 2.1873, 2.1845, 2.1817, 2.1804, 2.179, 2.1776, 2.2539, 2.2531, 2.2525, 2.2488, 2.2484, 2.2474, 2.2474, 2.2469, 2.2462, 2.245, 2.2436, 2.2364, 2.2315, 2.2267, 2.2236, 2.2204, 2.2089, 2.2066, 2.2039, 2.201, 2.1996, 2.1952, 2.1926, 2.1925, 2.1805, 2.18, 2.1731, 2.1706, 2.1655, 2.165, 2.1407, -0.1635, 2.4985, 2.4976, 2.4961, 2.4933, 2.4918, 2.489, 2.4868, 2.4835, 2.482, 2.4764, 2.4701, 2.4591, 2.4548, 2.454, 2.4497, 2.4495, 2.4362, 2.4231, 2.4209, 2.4181, 2.4174, 2.4147, 2.414, 2.4089, 2.4062, 2.4037, 2.4034, 2.4, 2.3951, 2.3946, 2.332, 2.8381, 2.8366, 2.8359, 2.8356, 2.8309, 2.8306, 2.8281, 2.827, 2.8259, 2.8187, 2.8139, 2.8114, 2.8082, 2.8057, 2.8004, 2.7991, 2.7984, 2.7934, 2.7926, 2.7794, 2.7744, 2.7709, 2.7681, 2.766, 2.7633, 2.7632, 2.7626, 2.7608, 2.754, 2.749, 2.8434, 2.8421, 2.842, 2.8417, 2.8356, 2.835, 2.8332, 2.831, 2.83, 2.8282, 2.8274, 2.8266, 2.8235, 2.8073, 2.8068, 2.8063, 2.7955, 2.7952, 2.7942, 2.7907, 2.7887, 2.7845, 2.7828, 2.7797, 2.7715, 2.769, 2.7683, 2.7671, 2.7662, 2.7561, 2.7447, 2.8626, 2.8624, 2.8619, 2.8557, 2.8551, 2.8527, 2.8503, 2.8394, 2.8334, 2.8302, 2.8243, 2.8224, 2.8197, 2.8162, 2.8158, 2.8147, 2.8146, 2.8137, 2.8121, 2.8105, 2.8066, 2.8007, 2.7982, 2.7978, 2.7962, 2.7958, 2.7921, 2.7921, 2.7867, 2.7844, 2.8824, 2.8802, 2.879, 2.8786, 2.878, 2.8775, 2.8759, 2.8731, 2.8698, 2.8679, 2.8637, 2.8629, 2.8624, 2.862, 2.8602, 2.8541, 2.8496, 2.8475, 2.8401, 2.8377, 2.8323, 2.8308, 2.8284, 2.8272, 2.8178, 2.815, 2.8135, 2.8033, 2.8028, 2.8004, 2.9084, 2.9036, 2.9034, 2.8949, 2.8946, 2.8917, 2.8906, 2.8857, 2.8789, 2.8778, 2.8745, 2.8703, 2.8649, 2.8636, 2.8516, 2.8411, 2.8392, 2.8372, 2.8369, 2.8357, 2.8225, 2.8163, 2.8098, 2.8093, 2.8092, 2.805, 2.804, 2.8035, 2.7894, 2.7857, 2.9806, 2.9746, 2.9709, 2.9699, 2.9666, 2.9646, 2.9626, 2.9622, 2.9588, 2.9571, 2.9439, 2.9434, 2.9401, 2.938, 2.9358, 2.9334, 2.9321, 2.93, 2.9271, 2.9246, 2.9141, 2.9134, 2.9123, 2.9084, 2.9, 2.898, 2.8974, 2.8957, 2.8955, 2.8934, 2.9774, 2.9765, 2.9763, 2.9707, 2.969, 2.9666, 2.9654, 2.9652, 2.9559, 2.9536, 2.9518, 2.951, 2.949, 2.9478, 2.9467, 2.946, 2.9434, 2.9335, 2.9335, 2.9307, 2.9303, 2.926, 2.9241, 2.9236, 2.921, 2.918, 2.9163, 2.9131, 2.9129, 2.9072, 3.0447, 3.0409, 3.0392, 3.0365, 3.0329, 3.0267, 3.0253, 3.0115, 3.0104, 2.9994, 2.9975, 2.9941, 2.994, 2.9877, 2.9848, 2.9765, 2.9737, 2.9712, 2.9705, 2.9656, 2.9639, 2.9625, 2.9579, 2.9506, 2.95, 2.9488, 2.9454, 2.9416, 2.9351, 2.9299, 3.0456, 3.0442, 3.0422, 3.0378, 3.0334, 3.0332, 3.0332, 3.0288, 3.028, 3.0275, 3.026, 3.0228, 3.0179, 3.0094, 3.0074, 3.0054, 3.0045, 3.0039, 3.0027, 3.0011, 2.9982, 2.998, 2.998, 2.9862, 2.9809, 2.9795, 2.9769, 2.9762, 2.9674, 2.967, 3.2213, 3.2212, 3.217, 3.2122, 3.2061, 3.2058, 3.2043, 3.2033, 3.203, 3.1977, 3.1962, 3.1928, 3.1908, 3.1862, 3.183, 3.1823, 3.1819, 3.176, 3.1735, 3.1688, 3.1604, 3.1601, 3.1593, 3.1586, 3.1573, 3.1567, 3.1512, 3.1492, 3.1482, 3.1433, 3.3197, 3.3082, 3.3053, 3.3041, 3.3027, 3.3004, 3.2949, 3.2935, 3.2915, 3.2851, 3.2818, 3.2809, 3.2714, 3.2669, 3.2659, 3.2642, 3.2642, 3.2618, 3.2603, 3.2594, 3.2569, 3.2552, 3.2552, 3.2491, 3.2471, 3.2452, 3.2374, 3.2305, 3.2301, 3.2265]}, \"token.table\": {\"Topic\": [2, 8, 6, 8, 5, 11, 12, 2, 7, 14, 4, 14, 2, 6, 6, 9, 2, 13, 7, 12, 2, 6, 14, 8, 11, 13, 5, 9, 13, 2, 14, 11, 15, 13, 10, 14, 10, 7, 12, 12, 7, 6, 6, 11, 9, 11, 13, 3, 1, 6, 12, 7, 5, 7, 11, 13, 15, 15, 9, 6, 3, 13, 15, 13, 3, 15, 15, 2, 6, 14, 11, 3, 7, 11, 7, 12, 11, 15, 3, 10, 7, 7, 4, 1, 2, 12, 15, 4, 3, 9, 4, 13, 1, 2, 8, 4, 3, 15, 5, 9, 2, 4, 1, 5, 8, 4, 5, 1, 2, 11, 6, 1, 15, 11, 7, 2, 2, 1, 15, 10, 7, 12, 11, 12, 5, 9, 5, 4, 8, 11, 1, 14, 8, 9, 3, 13, 11, 12, 9, 6, 13, 14, 4, 5, 4, 5, 14, 11, 6, 14, 4, 6, 11, 8, 4, 13, 14, 9, 11, 10, 11, 7, 1, 7, 14, 5, 12, 10, 8, 5, 5, 10, 7, 13, 7, 2, 4, 8, 1, 6, 15, 5, 5, 2, 14, 8, 14, 2, 1, 3, 15, 8, 2, 3, 13, 11, 10, 12, 11, 12, 14, 15, 12, 14, 15, 5, 8, 11, 2, 7, 6, 9, 7, 10, 7, 1, 4, 3, 12, 7, 12, 1, 3, 9, 13, 8, 3, 14, 3, 1, 2, 6, 3, 7, 12, 15, 14, 5, 12, 15, 4, 13, 4, 6, 5, 11, 10, 2, 4, 6, 8, 15, 8, 15, 4, 14, 2, 2, 14, 8, 3, 8, 8, 14, 7, 1, 3, 13, 6, 3, 1, 11, 6, 15, 5, 5, 3, 4, 1, 8, 11, 7, 11, 10, 12, 13, 15, 10, 1, 9, 3, 8, 15, 9, 13, 9, 5, 3, 1, 14, 8, 15, 6, 1, 12, 7, 9, 12, 8, 13, 1, 12, 13, 12, 4, 3, 13, 4, 4, 9, 4, 4, 3, 9, 14, 13, 14, 1, 15, 10, 2, 12, 12, 9, 13, 10, 6, 10, 13, 2, 9, 10, 5, 6, 9, 7, 1, 1, 3, 8, 2, 10, 1, 9, 2, 9, 14, 13, 14, 2, 10, 6, 4, 3, 5, 9, 5, 15, 11, 10, 1, 3, 12, 11, 7, 3, 10, 9, 15, 8, 5, 10, 12, 4, 15, 5, 3, 6, 9, 5, 12, 5, 9, 14, 6, 4, 11, 10, 13, 13, 2, 10, 10, 7, 8, 6, 6, 8, 10, 13, 10, 8, 12, 11, 7, 7, 1, 8, 4, 1, 3, 8, 6, 15, 4, 14, 4, 13, 12, 1, 6, 10, 10, 3, 2, 3, 1, 15, 6, 10, 15, 4, 9, 1, 7, 2, 5, 14, 9, 3, 11, 9, 10, 5, 14], \"Freq\": [0.9884929411814407, 0.9876876161447887, 0.9928821890019272, 0.9895037028413856, 0.9680332861847922, 0.9672943066921729, 0.9584530479935118, 0.9818479186435672, 0.9761159925795164, 0.9874524857078791, 0.9092162784493467, 0.9710325679714312, 0.9631740043317129, 0.950490637058869, 0.9313316805632188, 0.9620766689964704, 0.9845845505265146, 0.9544173182309745, 0.9341897668838257, 0.9454208539119908, 0.9769923603488959, 0.988588708741048, 0.9456040488475149, 0.9749094856069325, 0.9789557199314332, 0.9534270734958684, 0.9383676596971425, 0.895965327211274, 0.9576215440042893, 0.9928490369559533, 0.9727848339633196, 0.932832979806923, 0.9694971044517715, 0.9895116723493493, 0.9266548784968967, 0.9369432279292721, 0.9741854403269905, 0.9735396239422416, 0.925879525823984, 0.8558926113307418, 0.988583039350134, 0.9146916654129602, 0.9955122620060872, 0.9367181647632681, 0.9861427210455983, 0.9786155051034175, 0.971712275534477, 0.9888296182755956, 0.9899165416802814, 0.9467458580205059, 0.9479358405185896, 0.9360038952736418, 0.9837942957806748, 0.8973633108850919, 0.9695964366651985, 0.9888777215545619, 0.967221701946657, 0.9585350355730705, 0.9084447692344546, 0.9582806673254125, 0.9911010219129806, 0.9322633890062713, 0.9288804106420263, 0.9423715262040678, 0.9775240210504551, 0.9743184305418116, 0.8545566118949716, 0.9835734698406653, 0.9965928622341236, 0.9498013476464066, 0.9901641188505159, 0.9683565780683904, 0.9947353077547928, 0.9331129280865775, 0.9263016004021524, 0.9847115611073756, 0.9589246374836968, 0.9209443238329652, 0.9372151774588973, 0.9052591837910186, 0.8945154742522867, 0.9533131279127038, 0.8274043264692028, 0.9984555954021437, 0.9779457944457464, 0.9661026102510203, 0.9485332945235487, 0.9785721847150799, 0.927635389496532, 0.9589015561171061, 0.8919682710441263, 0.9616734265791395, 0.9570352517484839, 0.9992485055123975, 0.9228891271247901, 0.9977370611825014, 0.9973025629287491, 0.9897347237807798, 0.9326566298757478, 0.9763590292690134, 0.9966992172609995, 0.9984492006882542, 0.9901575312135684, 0.9488458124302372, 0.9183537424160362, 0.9146557716906571, 0.986696650026846, 0.9910390914215175, 0.9815899755015969, 0.9519516513405559, 0.9887083109519063, 0.991322030903088, 0.9244688082498526, 0.9504173585300345, 0.9274281951055455, 0.908657408048749, 0.9271541160231986, 0.9708345913813984, 0.9634034613132995, 0.9271957696969267, 0.9413309441906811, 0.854836584570173, 0.9707504861608336, 0.9874562907179406, 0.9571673246596065, 0.9526327832753865, 0.9653705653051151, 0.8893287957156696, 0.9885894009256213, 0.9683046059023032, 0.9988995919902, 0.957328555862688, 0.9796903959368767, 0.9904571688973686, 0.9522296650037844, 0.9270267254293386, 0.951445048605739, 0.8768235484140622, 0.9801931667055954, 0.9725212970209297, 0.9142777789312462, 0.9627526111897762, 0.9285089412561354, 0.8934189220135416, 0.9484501538117432, 0.9734881018193473, 0.9151563850006228, 0.9238898272190487, 0.920814556876964, 0.9827061225286842, 0.9660151724042062, 0.9740628154425975, 0.925420748535472, 0.929944964411307, 0.9621657776878992, 0.9430794286381087, 0.9585045872185334, 0.9190516386841466, 0.9554416170502125, 0.9514361308261456, 0.9433275104353496, 0.9855497787318142, 0.963875429970963, 0.9064711685232293, 0.9288088636914166, 0.969408680791866, 0.8936138855893715, 0.9682140492122988, 0.996427413733577, 0.9812890067548895, 0.9174629636354205, 0.9714231083234408, 0.9311041204421941, 0.9827217621655814, 0.9251107182571865, 0.9436877349854275, 0.9901168421623694, 0.9938317524861121, 0.9887311324489395, 0.9787957410439687, 0.9443810658496266, 0.9969145864560964, 0.9713556310905784, 0.9915773896189924, 0.9428399037870236, 0.9882537323424248, 0.9506732552534929, 0.947455868536797, 0.9699680327836975, 0.8792194993632887, 0.9565078115549132, 0.9927245419526748, 0.9835775334735565, 0.9994671174229308, 0.9603717042358151, 0.943167909529539, 0.9603062713095145, 0.9431244100124524, 0.974957584716898, 0.9338186541617295, 0.9386911865844298, 0.9414202557935126, 0.9262401803609394, 0.9190611586741776, 0.9956929922858365, 0.9967934862617904, 0.9940689859347186, 0.9598843397374469, 0.9083220315246383, 0.9610751426135531, 0.9063583942031759, 0.953712194928898, 0.934232567321896, 0.9985972607546522, 0.9937491130711564, 0.9773423305122516, 0.9742412106954592, 0.9665791575969432, 0.9502437782027455, 0.9598587714402604, 0.9219373901572718, 0.968347095173763, 0.9910214345703195, 0.9743400082584122, 0.968888067843365, 0.9484941251904607, 0.9589274220892611, 0.9625051176180132, 0.9696606016596627, 0.9576651333486222, 0.9518555247561823, 0.9915172498786978, 0.9014633246608765, 0.8973730634238134, 0.9391717537501204, 0.9741604474205412, 0.9545790126687723, 0.986497185792441, 0.8828774654482102, 0.9038939645615883, 0.9845367827319075, 0.9489048878447277, 0.8638338043346148, 0.9868961291970811, 0.9605878857678376, 0.9497368600542256, 0.9896111103654981, 0.9870447063460299, 0.9979266901295657, 0.9960788352913391, 0.9745332916483651, 0.9183864364555652, 0.9691805546952206, 0.9437855689462128, 0.8988426014446714, 0.9351631688648914, 0.9832559024082492, 0.9808593987591009, 0.9700306548454753, 0.9376166506963496, 0.9067469973984014, 0.9447747733287551, 0.9877491898164967, 0.9778510417535744, 0.9626940830571029, 0.9986230330893865, 0.9232694778421897, 0.9499708738011768, 0.9910937417826293, 0.9760161422194569, 0.9751203685539607, 0.987347860176331, 0.9308142832559964, 0.9326003190154264, 0.9733818836042103, 0.9922028261563326, 0.8979599630106988, 0.9483715701034308, 0.9971622075094323, 0.9123641059045408, 0.98928782120474, 0.900798482642755, 0.9900440386068632, 0.9938516799861791, 0.9603987444516057, 0.9941111280464524, 0.9527753029205063, 0.9504150136955356, 0.997693630618237, 0.9299769640504391, 0.9936437459649451, 0.9529171889895178, 0.9642628208418427, 0.8710292528896781, 0.9638607813985327, 0.914624539611358, 0.9876148130636334, 0.935574640550061, 0.9818580614883101, 0.9725122925359906, 0.9887177015981521, 0.9455067470419517, 0.8832057847651356, 0.994740666937044, 0.9955062700917799, 0.9667013413951676, 0.9980241404134785, 0.99494033214711, 0.8916842386894535, 0.9574332456188709, 0.9877346416983476, 0.8834062782069098, 0.9228755777947509, 0.9981192726051036, 0.9227677599904441, 0.9229865316767196, 0.9534420537029215, 0.9432095800069286, 0.9836325675326528, 0.932383048139375, 0.9405638669642894, 0.9499495292628533, 0.9890038514668233, 0.9925161814567842, 0.9878385517265013, 0.906172375211384, 0.9531925295824477, 0.9464298023029737, 0.971099284647821, 0.9325422364840004, 0.9366936372807505, 0.9140849754399778, 0.9693065945396627, 0.8722536482878573, 0.9742165703293705, 0.981961241916826, 0.9276958678886568, 0.956994988467715, 0.9625936245436163, 0.995918776187631, 0.9029491872493535, 0.9451680930389482, 0.964771772251921, 0.9851413824158278, 0.9911313043133984, 0.9464035060650089, 0.9603726339699082, 0.9955922453786664, 0.9919013689115784, 0.9385751026417909, 0.984262700348279, 0.9634661766252207, 0.9770519361150819, 0.952824754139203, 0.9656707972689113, 0.9149454430808381, 0.8814143805879463, 0.9296875264158558, 0.9434219630929493, 0.9990000505235117, 0.9846040166150842, 0.8926624212281016, 0.9922704705317352, 0.9894711935644327, 0.9973596819782693, 0.9289696495836991, 0.9558559183880838, 0.9244660694342322, 0.9736427386348309, 0.9084616257467655, 0.9093854175661582, 0.08925002771869457, 0.9720398014305762, 0.9924461682214011, 0.9876068556396226, 0.9710219425183079, 0.9178003255347783, 0.9065678431253973, 0.9107808181661156, 0.9782890193855346, 0.9119755365219642, 0.9363359116711305, 0.9178609517582526, 0.9081112728905162, 0.9454834000324872, 0.9579182728373216, 0.9970922774027461, 0.944988918273812, 0.9744188054786508, 0.8895010109267132, 0.9450792311978459, 0.9707934262404855, 0.9881550299830583, 0.8912366467225794, 0.9697585564581986, 0.904680878158359, 0.9841420143583008, 0.9317222075042496, 0.9931961142432614, 0.9855105623500786, 0.9911689019950882, 0.9605595780478623, 0.9937970841314067, 0.9561090364677612, 0.9836745148245959, 0.9559933012956308, 0.9000742170353347, 0.9658415713636463, 0.8992712104501118, 0.9878630497608292, 0.9817450291172293, 0.9176946270647742, 0.9863882990993069, 0.97574789574146, 0.997309883342725, 0.978381623926957, 0.9729560772006695, 0.9828769165376307, 0.9470587273091141, 0.9966814861514031, 0.9903551255553885, 0.9677235820487321, 0.8997061386807501, 0.9250815762143353, 0.9351798082445695, 0.9953410005332914, 0.9652177425154563, 0.936850296823865, 0.9116911042804566, 0.9677815082368109, 0.9073805444532108, 0.9393468807206516, 0.9518411605063672, 0.9925539214757643, 0.9537635899698097, 0.9871033691426065, 0.9805124178737367, 0.986311478262007, 0.9503283613001301, 0.8762899877290534, 0.980733961247378, 0.9270271577115148, 0.9741137993179132, 0.998654961711946, 0.9947757483733576, 0.9588645735573808, 0.9505794843797941, 0.9750494549992779, 0.9674551349896181, 0.9654022492186972, 0.9948140498571725, 0.867425716142955, 0.9877471695323444, 0.9840051819934914, 0.9871713331074266], \"Term\": [\"ability\", \"access\", \"account\", \"accurate\", \"active\", \"activity\", \"actual\", \"addition\", \"additional\", \"address\", \"advance\", \"aftersale\", \"agent\", \"agility\", \"amazon\", \"annoying\", \"answer\", \"apple\", \"application\", \"appointment\", \"arrival\", \"arrive\", \"assist\", \"assistance\", \"attempt\", \"attendant\", \"attention\", \"authorization\", \"availability\", \"available\", \"bad\", \"bank\", \"basket\", \"battery\", \"bill\", \"billing\", \"black\", \"brand\", \"build\", \"bundle\", \"business\", \"button\", \"call\", \"cancel\", \"cancellation\", \"card\", \"care\", \"carrier\", \"case\", \"cell\", \"center\", \"certain\", \"change\", \"channel\", \"charge\", \"chat\", \"check\", \"choice\", \"city\", \"clarity\", \"clear\", \"client\", \"close\", \"clue\", \"code\", \"comment\", \"commitment\", \"communication\", \"company\", \"complaint\", \"complete\", \"completion\", \"computer\", \"configuration\", \"confirm\", \"confirmation\", \"confuse\", \"confusing\", \"consistency\", \"constant\", \"consume\", \"consumer\", \"consuming\", \"contact\", \"content\", \"contract\", \"copy\", \"correct\", \"country\", \"coupon\", \"courier\", \"credit\", \"current\", \"customer\", \"damn\", \"date\", \"day\", \"deadline\", \"deal\", \"defective\", \"delay\", \"delivery\", \"department\", \"description\", \"design\", \"desk\", \"desktop\", \"detail\", \"detailed\", \"device\", \"different\", \"difficult\", \"difficulty\", \"direct\", \"disappointed\", \"disappointing\", \"discount\", \"display\", \"dissatisfied\", \"dissatisfy\", \"docking_station\", \"dollar\", \"doubt\", \"download\", \"dozen\", \"drive\", \"duplicate\", \"early\", \"easy\", \"efficient\", \"email\", \"employee\", \"equipment\", \"error\", \"estimate\", \"exact\", \"example\", \"expectation\", \"experience\", \"explanation\", \"extension\", \"fact\", \"factor\", \"fall\", \"fast\", \"fedex\", \"feedback\", \"figure\", \"final\", \"find\", \"fine\", \"first\", \"folk\", \"follow\", \"forecast\", \"form\", \"format\", \"frame\", \"fraud\", \"friendly\", \"front\", \"frustrating\", \"full\", \"function\", \"further\", \"garbage\", \"german\", \"gift\", \"good\", \"great\", \"ground\", \"guy\", \"half\", \"hand\", \"happy\", \"hard\", \"help\", \"helpful\", \"history\", \"hold\", \"home\", \"hour\", \"human\", \"idea\", \"important\", \"impossible\", \"improvement\", \"inaccurate\", \"incorrect\", \"indication\", \"individual\", \"info\", \"inform\", \"information\", \"initial\", \"inquiry\", \"inspiron\", \"install\", \"instruction\", \"interaction\", \"interface\", \"internet\", \"intuitive\", \"invalid\", \"invoice\", \"issue\", \"item\", \"key\", \"kind\", \"knowledge\", \"knowledgeable\", \"label\", \"lack\", \"laptop\", \"last\", \"late\", \"least\", \"leave\", \"less\", \"level\", \"license\", \"line\", \"link\", \"list\", \"little\", \"live\", \"local\", \"locate\", \"location\", \"login\", \"logistic\", \"long\", \"look\", \"loop\", \"lousy\", \"machine\", \"mail\", \"many\", \"matter\", \"mcafee\", \"message\", \"method\", \"mind\", \"minute\", \"mobile\", \"model\", \"money\", \"monitor\", \"month\", \"more\", \"morning\", \"most\", \"much\", \"multiple\", \"name\", \"necessary\", \"need\", \"next\", \"nice\", \"none\", \"nonexistent\", \"normal\", \"notebook\", \"notice\", \"notification\", \"number\", \"offer\", \"office\", \"online\", \"only\", \"open\", \"option\", \"ordering\", \"organization\", \"original\", \"other\", \"overdue\", \"package\", \"page\", \"pain\", \"part\", \"partner\", \"payment\", \"people\", \"period\", \"person\", \"personal\", \"personnel\", \"phone\", \"physical\", \"place\", \"plan\", \"point\", \"policy\", \"poor\", \"portal\", \"possible\", \"prediction\", \"previous\", \"price\", \"printer\", \"private\", \"proactive\", \"problem\", \"process\", \"processing\", \"product\", \"production\", \"professional\", \"program\", \"progress\", \"promise\", \"provision\", \"purchase\", \"purolator\", \"purpose\", \"quality\", \"query\", \"question\", \"queue\", \"quick\", \"ready\", \"real\", \"reason\", \"receipt\", \"recent\", \"record\", \"reference\", \"refund\", \"regard\", \"relevant\", \"reliable\", \"renew\", \"reorder\", \"repair\", \"replacement\", \"reply\", \"report\", \"representative\", \"request\", \"residence\", \"resolution\", \"resolve\", \"response\", \"return\", \"ridiculous\", \"right\", \"sale\", \"same\", \"satisfied\", \"schedule\", \"screen\", \"search\", \"second\", \"section\", \"seller\", \"sense\", \"serial\", \"serious\", \"service\", \"several\", \"shameful\", \"ship\", \"shipment\", \"shipping\", \"shopping\", \"show\", \"sign\", \"simple\", \"single\", \"site\", \"site\", \"situation\", \"slow\", \"software\", \"solution\", \"solve\", \"sorry\", \"spec\", \"specific\", \"speed\", \"staff\", \"stage\", \"standard\", \"start\", \"state\", \"status\", \"step\", \"stock\", \"store\", \"strange\", \"subscription\", \"such\", \"suggestion\", \"supplier\", \"supply\", \"sure\", \"survey\", \"system\", \"talk\", \"team\", \"tech\", \"technical\", \"technician\", \"telephone\", \"tell\", \"term\", \"terrible\", \"text\", \"thank\", \"thing\", \"think\", \"ticket\", \"timely\", \"today\", \"tomorrow\", \"tool\", \"total\", \"trace\", \"track\", \"tracking\", \"transfer\", \"transparency\", \"transport\", \"truck\", \"unable\", \"unacceptable\", \"unavailable\", \"unclear\", \"understand\", \"understandable\", \"unit\", \"unprofessional\", \"update\", \"upgrade\", \"useful\", \"useless\", \"user\", \"verification\", \"video\", \"view\", \"visible\", \"warranty\", \"website\", \"week\", \"weekend\", \"well\", \"whole\", \"window\", \"word\", \"work\", \"worthless\", \"wrong\", \"year\", \"yesterday\"]}, \"R\": 30, \"lambda.step\": 0.01, \"plot.opts\": {\"xlab\": \"PC1\", \"ylab\": \"PC2\"}, \"topic.order\": [8, 6, 10, 11, 1, 13, 14, 12, 4, 2, 5, 15, 7, 3, 9]};\n",
              "\n",
              "function LDAvis_load_lib(url, callback){\n",
              "  var s = document.createElement('script');\n",
              "  s.src = url;\n",
              "  s.async = true;\n",
              "  s.onreadystatechange = s.onload = callback;\n",
              "  s.onerror = function(){console.warn(\"failed to load library \" + url);};\n",
              "  document.getElementsByTagName(\"head\")[0].appendChild(s);\n",
              "}\n",
              "\n",
              "if(typeof(LDAvis) !== \"undefined\"){\n",
              "   // already loaded: just create the visualization\n",
              "   !function(LDAvis){\n",
              "       new LDAvis(\"#\" + \"ldavis_el581399152562010406775739337\", ldavis_el581399152562010406775739337_data);\n",
              "   }(LDAvis);\n",
              "}else if(typeof define === \"function\" && define.amd){\n",
              "   // require.js is available: use it to load d3/LDAvis\n",
              "   require.config({paths: {d3: \"https://d3js.org/d3.v5\"}});\n",
              "   require([\"d3\"], function(d3){\n",
              "      window.d3 = d3;\n",
              "      LDAvis_load_lib(\"https://cdn.jsdelivr.net/gh/bmabey/pyLDAvis@3.3.1/pyLDAvis/js/ldavis.v3.0.0.js\", function(){\n",
              "        new LDAvis(\"#\" + \"ldavis_el581399152562010406775739337\", ldavis_el581399152562010406775739337_data);\n",
              "      });\n",
              "    });\n",
              "}else{\n",
              "    // require.js not available: dynamically load d3 & LDAvis\n",
              "    LDAvis_load_lib(\"https://d3js.org/d3.v5.js\", function(){\n",
              "         LDAvis_load_lib(\"https://cdn.jsdelivr.net/gh/bmabey/pyLDAvis@3.3.1/pyLDAvis/js/ldavis.v3.0.0.js\", function(){\n",
              "                 new LDAvis(\"#\" + \"ldavis_el581399152562010406775739337\", ldavis_el581399152562010406775739337_data);\n",
              "            })\n",
              "         });\n",
              "}\n",
              "</script>"
            ]
          },
          "metadata": {},
          "execution_count": 107
        }
      ]
    },
    {
      "cell_type": "markdown",
      "source": [
        "\n",
        "\"\"\"Each bubble on the left-hand side plot represents a topic. The larger the bubble, the more prevalent is that topic.\n",
        "\n",
        "A good topic model will have fairly big, non-overlapping bubbles scattered throughout the chart instead of being clustered in one quadrant.\n",
        "\n",
        "A model with too many topics, will typically have many overlaps, small sized bubbles clustered in one region of the chart\"\"\""
      ],
      "metadata": {
        "id": "ScD9o-PpIDV3"
      }
    },
    {
      "cell_type": "code",
      "source": [
        "# Print the Keyword in the 10 topics\n",
        "pprint(lda_model.print_topics())\n",
        "doc_lda = lda_model[corpus]"
      ],
      "metadata": {
        "id": "V12KHiRj-SuH"
      },
      "execution_count": null,
      "outputs": []
    },
    {
      "cell_type": "code",
      "source": [
        "##print('\\nPerplexity: ', lda_model.log_perplexity(doc_term_matrix,total_docs=10000))  # a measure of how good the model is. lower the better.\n",
        "print('\\nPerplexity: ', lda_model.log_perplexity(corpus))\n",
        "# Compute Coherence Score\n",
        "from gensim.models.coherencemodel import CoherenceModel\n",
        "coherence_model_lda = CoherenceModel(model=lda_model, texts=tokenized_reviews, dictionary=dictionary , coherence='c_v')\n",
        "coherence_lda = coherence_model_lda.get_coherence()\n",
        "print('\\nCoherence Score: ', coherence_lda)"
      ],
      "metadata": {
        "colab": {
          "base_uri": "https://localhost:8080/"
        },
        "id": "irrV-QImbOP0",
        "outputId": "75988689-0785-4f3c-f3ed-43408bcdc50a"
      },
      "execution_count": null,
      "outputs": [
        {
          "output_type": "stream",
          "name": "stdout",
          "text": [
            "\n",
            "Perplexity:  -6.828339460417959\n",
            "\n",
            "Coherence Score:  0.6765621028244306\n"
          ]
        }
      ]
    },
    {
      "cell_type": "code",
      "source": [
        "\n",
        "# Visualize the topics\n",
        "pyLDAvis.enable_notebook()\n",
        "vis = pyLDAvis.gensim_models.prepare(lda_model, corpus, id2word)\n",
        "vis\n"
      ],
      "metadata": {
        "id": "guPrGAuW95ko"
      },
      "execution_count": null,
      "outputs": []
    },
    {
      "cell_type": "markdown",
      "source": [
        "Coherence is a key property of any well-organized text. It evaluates the degree of logical consistency for text and can help document a set of sentences into a logically consistent order, which is at the core of many text-synthesis tasks such as text generation and multi- document summarization."
      ],
      "metadata": {
        "id": "NhSD3oFUNgvH"
      }
    },
    {
      "cell_type": "code",
      "source": [
        "def compute_coherence_values(dictionary, corpus, texts, limit, start=2, step=3):\n",
        "    \"\"\"\n",
        "    Compute c_v coherence for various number of topics\n",
        "\n",
        "    Parameters:\n",
        "    ----------\n",
        "    dictionary : Gensim dictionary\n",
        "    corpus : Gensim corpus\n",
        "    texts : List of input texts\n",
        "    limit : Max num of topics\n",
        "\n",
        "    Returns:\n",
        "    -------\n",
        "    model_list : List of LDA topic models\n",
        "    coherence_values : Coherence values corresponding to the LDA model with respective number of topics\n",
        "    \"\"\"\n",
        "    coherence_values = []\n",
        "    model_list = []\n",
        "    for num_topics in range(start, limit, step):\n",
        "        model = gensim.models.ldamodel.LdaModel(corpus=corpus, num_topics=num_topics, id2word=dictionary)\n",
        "        model_list.append(model)\n",
        "        coherencemodel = CoherenceModel(model=lda_model, texts=texts, dictionary=dictionary, coherence='c_v')\n",
        "        coherence_values.append(coherencemodel.get_coherence())\n",
        "\n",
        "    return model_list, coherence_values"
      ],
      "metadata": {
        "id": "pxx5hrnDbOS9"
      },
      "execution_count": null,
      "outputs": []
    },
    {
      "cell_type": "code",
      "source": [
        "model_list, coherence_values = compute_coherence_values(dictionary=dictionary, corpus=doc_term_matrix, texts=tokenized_reviews, start=1, limit=50, step=3)"
      ],
      "metadata": {
        "id": "7wpnvwftavTF"
      },
      "execution_count": null,
      "outputs": []
    },
    {
      "cell_type": "code",
      "source": [
        "# Show graph\n",
        "limit=50; start=1; step=3;\n",
        "x = range(start, limit, step)\n",
        "plt.plot(x, coherence_values)\n",
        "plt.xlabel(\"Num Topics\")\n",
        "plt.ylabel(\"Coherence score\")\n",
        "plt.legend((\"coherence_values\"), loc='best')\n",
        "plt.show()# Print the coherence scores"
      ],
      "metadata": {
        "colab": {
          "base_uri": "https://localhost:8080/",
          "height": 279
        },
        "id": "464R9p-FYvTK",
        "outputId": "54a64829-4078-404e-ba28-8c2ac85b9b9d"
      },
      "execution_count": null,
      "outputs": [
        {
          "output_type": "display_data",
          "data": {
            "text/plain": [
              "<Figure size 432x288 with 1 Axes>"
            ],
            "image/png": "[encoded data removed]"
          },
          "metadata": {
            "needs_background": "light"
          }
        }
      ]
    },
    {
      "cell_type": "code",
      "source": [
        "# Print the coherence scores\n",
        "for m, cv in zip(x, coherence_values):\n",
        "    print(\"Num Topics =\", m, \" has Coherence Value of\", round(cv, 4))"
      ],
      "metadata": {
        "id": "d-AbUUzhAQHN"
      },
      "execution_count": null,
      "outputs": []
    },
    {
      "cell_type": "code",
      "source": [
        "##If the coherence score seems to keep increasing, it may make better sense to pick the model that gave the highest CV before flattening out.\n",
        "# Select the model and print the topics\n",
        "optimal_model = model_list[5]\n",
        "model_topics = optimal_model.show_topics(formatted=False)\n",
        "pprint(optimal_model.print_topics(num_words=20))\n",
        "\n",
        "\n",
        "# 1. Wordcloud of Top N words in each topic\n",
        "from matplotlib import pyplot as plt\n",
        "from wordcloud import WordCloud, STOPWORDS\n",
        "import matplotlib.colors as mcolors\n",
        "\n",
        "cols = [color for name, color in mcolors.TABLEAU_COLORS.items()]  # more colors: 'mcolors.XKCD_COLORS'\n",
        "\n",
        "cloud = WordCloud(stopwords=stop_words,\n",
        "                  background_color='white',\n",
        "                  width=2500,\n",
        "                  height=1800,\n",
        "                  max_words=20,\n",
        "                  colormap='tab10',\n",
        "                  color_func=lambda *args, **kwargs: cols[i],\n",
        "                  prefer_horizontal=1.0)\n",
        "\n",
        "topics = optimal_model.show_topics(formatted=False)\n",
        "\n",
        "fig, axes = plt.subplots(3,3, figsize=(10,10), sharex=True, sharey=True)\n",
        "\n",
        "for i, ax in enumerate(axes.flatten()):\n",
        "    fig.add_subplot(ax)\n",
        "    topic_words = dict(topics[i][1])\n",
        "    cloud.generate_from_frequencies(topic_words, max_font_size=300)\n",
        "    plt.gca().imshow(cloud)\n",
        "    plt.gca().set_title('Topic ' + str(i), fontdict=dict(size=16))\n",
        "    plt.gca().axis('off')"
      ],
      "metadata": {
        "colab": {
          "base_uri": "https://localhost:8080/",
          "height": 1000
        },
        "id": "vNb9S9ImAj_I",
        "outputId": "dfbafba2-4e3c-4e2a-f6ab-7d95de5aa5f9"
      },
      "execution_count": null,
      "outputs": [
        {
          "output_type": "stream",
          "name": "stdout",
          "text": [
            "[(0,\n",
            "  '0.046*\"information\" + 0.036*\"product\" + 0.035*\"date\" + 0.031*\"day\" + '\n",
            "  '0.021*\"item\" + 0.021*\"status\" + 0.015*\"carrier\" + 0.013*\"site\" + '\n",
            "  '0.012*\"number\" + 0.012*\"tracking\" + 0.011*\"business\" + 0.011*\"update\" + '\n",
            "  '0.011*\"laptop\" + 0.010*\"contact\" + 0.010*\"ship\" + 0.010*\"website\" + '\n",
            "  '0.010*\"order\" + 0.010*\"purchase\" + 0.010*\"delivery\" + 0.009*\"return\"'),\n",
            " (1,\n",
            "  '0.034*\"website\" + 0.033*\"number\" + 0.024*\"customer\" + 0.020*\"date\" + '\n",
            "  '0.018*\"email\" + 0.016*\"ship\" + 0.016*\"easy\" + 0.015*\"people\" + '\n",
            "  '0.014*\"phone\" + 0.014*\"system\" + 0.014*\"production\" + 0.012*\"site\" + '\n",
            "  '0.012*\"delivery\" + 0.011*\"computer\" + 0.011*\"laptop\" + 0.009*\"service\" + '\n",
            "  '0.009*\"today\" + 0.008*\"day\" + 0.007*\"call\" + 0.007*\"information\"'),\n",
            " (2,\n",
            "  '0.043*\"number\" + 0.033*\"laptop\" + 0.022*\"delivery\" + 0.016*\"tracking\" + '\n",
            "  '0.016*\"shipping\" + 0.014*\"email\" + 0.013*\"purchase\" + 0.013*\"process\" + '\n",
            "  '0.013*\"problem\" + 0.012*\"customer\" + 0.011*\"information\" + 0.010*\"clear\" + '\n",
            "  '0.010*\"date\" + 0.009*\"day\" + 0.009*\"card\" + 0.009*\"production\" + '\n",
            "  '0.009*\"detail\" + 0.008*\"request\" + 0.008*\"content\" + 0.007*\"computer\"'),\n",
            " (3,\n",
            "  '0.042*\"status\" + 0.028*\"information\" + 0.023*\"production\" + '\n",
            "  '0.018*\"customer\" + 0.016*\"date\" + 0.015*\"question\" + 0.014*\"link\" + '\n",
            "  '0.012*\"day\" + 0.011*\"update\" + 0.010*\"computer\" + 0.010*\"answer\" + '\n",
            "  '0.010*\"communication\" + 0.009*\"difficult\" + 0.009*\"week\" + 0.009*\"ship\" + '\n",
            "  '0.009*\"option\" + 0.009*\"same\" + 0.009*\"contact\" + 0.008*\"more\" + '\n",
            "  '0.008*\"arrival\"'),\n",
            " (4,\n",
            "  '0.044*\"service\" + 0.041*\"delivery\" + 0.033*\"customer\" + 0.028*\"website\" + '\n",
            "  '0.024*\"email\" + 0.020*\"information\" + 0.016*\"product\" + 0.015*\"item\" + '\n",
            "  '0.013*\"laptop\" + 0.012*\"date\" + 0.012*\"month\" + 0.010*\"change\" + '\n",
            "  '0.009*\"today\" + 0.009*\"address\" + 0.009*\"number\" + 0.009*\"delay\" + '\n",
            "  '0.008*\"contact\" + 0.008*\"desktop\" + 0.008*\"next\" + 0.007*\"page\"'),\n",
            " (5,\n",
            "  '0.078*\"delivery\" + 0.053*\"date\" + 0.039*\"product\" + 0.026*\"month\" + '\n",
            "  '0.023*\"detail\" + 0.021*\"information\" + 0.020*\"status\" + 0.015*\"site\" + '\n",
            "  '0.013*\"more\" + 0.012*\"delay\" + 0.010*\"notebook\" + 0.010*\"update\" + '\n",
            "  '0.010*\"website\" + 0.010*\"long\" + 0.009*\"production\" + 0.009*\"service\" + '\n",
            "  '0.009*\"customer\" + 0.009*\"purchase\" + 0.009*\"day\" + 0.008*\"week\"'),\n",
            " (6,\n",
            "  '0.028*\"service\" + 0.026*\"customer\" + 0.021*\"card\" + 0.018*\"issue\" + '\n",
            "  '0.018*\"status\" + 0.017*\"email\" + 0.014*\"computer\" + 0.014*\"credit\" + '\n",
            "  '0.014*\"yesterday\" + 0.013*\"account\" + 0.012*\"contact\" + 0.012*\"information\" '\n",
            "  '+ 0.011*\"monitor\" + 0.011*\"order\" + 0.011*\"laptop\" + 0.011*\"today\" + '\n",
            "  '0.010*\"number\" + 0.009*\"request\" + 0.008*\"same\" + 0.008*\"website\"'),\n",
            " (7,\n",
            "  '0.042*\"status\" + 0.034*\"service\" + 0.027*\"email\" + 0.023*\"website\" + '\n",
            "  '0.020*\"problem\" + 0.017*\"site\" + 0.016*\"customer\" + 0.015*\"contact\" + '\n",
            "  '0.014*\"information\" + 0.013*\"purchase\" + 0.011*\"date\" + 0.011*\"call\" + '\n",
            "  '0.011*\"day\" + 0.011*\"number\" + 0.010*\"phone\" + 0.010*\"update\" + '\n",
            "  '0.010*\"tracking\" + 0.009*\"computer\" + 0.009*\"repair\" + 0.008*\"work\"'),\n",
            " (8,\n",
            "  '0.046*\"information\" + 0.029*\"account\" + 0.028*\"number\" + 0.025*\"payment\" + '\n",
            "  '0.022*\"email\" + 0.021*\"history\" + 0.020*\"order\" + 0.017*\"website\" + '\n",
            "  '0.016*\"customer\" + 0.015*\"contact\" + 0.015*\"purchase\" + '\n",
            "  '0.015*\"confirmation\" + 0.013*\"phone\" + 0.012*\"unable\" + 0.012*\"site\" + '\n",
            "  '0.011*\"service\" + 0.009*\"laptop\" + 0.009*\"return\" + 0.009*\"status\" + '\n",
            "  '0.008*\"page\"'),\n",
            " (9,\n",
            "  '0.044*\"product\" + 0.039*\"delivery\" + 0.037*\"purchase\" + 0.036*\"customer\" + '\n",
            "  '0.017*\"date\" + 0.016*\"shipping\" + 0.016*\"day\" + 0.015*\"website\" + '\n",
            "  '0.011*\"information\" + 0.011*\"month\" + 0.010*\"company\" + 0.010*\"hour\" + '\n",
            "  '0.009*\"address\" + 0.008*\"more\" + 0.008*\"accurate\" + 0.007*\"sale\" + '\n",
            "  '0.007*\"response\" + 0.006*\"good\" + 0.006*\"process\" + 0.006*\"guy\"'),\n",
            " (10,\n",
            "  '0.032*\"customer\" + 0.032*\"information\" + 0.026*\"service\" + 0.024*\"email\" + '\n",
            "  '0.023*\"phone\" + 0.019*\"delivery\" + 0.018*\"order\" + 0.015*\"status\" + '\n",
            "  '0.015*\"more\" + 0.014*\"issue\" + 0.013*\"request\" + 0.012*\"site\" + '\n",
            "  '0.011*\"invoice\" + 0.010*\"notebook\" + 0.009*\"website\" + 0.009*\"person\" + '\n",
            "  '0.008*\"tracking\" + 0.008*\"number\" + 0.007*\"contact\" + 0.007*\"screen\"'),\n",
            " (11,\n",
            "  '0.033*\"information\" + 0.028*\"laptop\" + 0.021*\"contact\" + 0.020*\"website\" + '\n",
            "  '0.018*\"issue\" + 0.016*\"delivery\" + 0.015*\"service\" + 0.014*\"easy\" + '\n",
            "  '0.012*\"month\" + 0.012*\"today\" + 0.012*\"invoice\" + 0.011*\"payment\" + '\n",
            "  '0.010*\"delay\" + 0.010*\"other\" + 0.010*\"notification\" + 0.010*\"customer\" + '\n",
            "  '0.009*\"computer\" + 0.009*\"order\" + 0.009*\"company\" + 0.009*\"day\"'),\n",
            " (12,\n",
            "  '0.070*\"number\" + 0.029*\"information\" + 0.028*\"customer\" + 0.023*\"service\" + '\n",
            "  '0.019*\"tracking\" + 0.018*\"phone\" + 0.018*\"available\" + 0.017*\"website\" + '\n",
            "  '0.017*\"person\" + 0.016*\"delivery\" + 0.015*\"help\" + 0.014*\"email\" + '\n",
            "  '0.013*\"product\" + 0.012*\"day\" + 0.012*\"problem\" + 0.011*\"account\" + '\n",
            "  '0.011*\"sale\" + 0.009*\"computer\" + 0.009*\"order\" + 0.008*\"item\"'),\n",
            " (13,\n",
            "  '0.066*\"service\" + 0.057*\"customer\" + 0.033*\"laptop\" + 0.020*\"number\" + '\n",
            "  '0.016*\"information\" + 0.016*\"week\" + 0.015*\"email\" + 0.012*\"page\" + '\n",
            "  '0.012*\"time\" + 0.011*\"contact\" + 0.011*\"request\" + 0.011*\"phone\" + '\n",
            "  '0.011*\"help\" + 0.009*\"available\" + 0.009*\"problem\" + 0.009*\"day\" + '\n",
            "  '0.009*\"issue\" + 0.009*\"technical\" + 0.008*\"order\" + 0.008*\"status\"'),\n",
            " (14,\n",
            "  '0.057*\"site\" + 0.028*\"information\" + 0.016*\"email\" + 0.014*\"date\" + '\n",
            "  '0.014*\"info\" + 0.014*\"item\" + 0.014*\"product\" + 0.012*\"today\" + '\n",
            "  '0.012*\"purchase\" + 0.011*\"computer\" + 0.011*\"home\" + 0.010*\"same\" + '\n",
            "  '0.010*\"delivery\" + 0.009*\"shipping\" + 0.009*\"payment\" + 0.009*\"week\" + '\n",
            "  '0.008*\"notice\" + 0.007*\"website\" + 0.007*\"confusing\" + 0.007*\"program\"'),\n",
            " (15,\n",
            "  '0.034*\"service\" + 0.027*\"access\" + 0.019*\"site\" + 0.017*\"purchase\" + '\n",
            "  '0.016*\"website\" + 0.015*\"chat\" + 0.014*\"email\" + 0.013*\"part\" + '\n",
            "  '0.012*\"order\" + 0.012*\"customer\" + 0.012*\"hour\" + 0.011*\"computer\" + '\n",
            "  '0.011*\"contact\" + 0.010*\"many\" + 0.009*\"laptop\" + 0.009*\"problem\" + '\n",
            "  '0.009*\"software\" + 0.008*\"request\" + 0.008*\"year\" + 0.008*\"telephone\"')]\n"
          ]
        },
        {
          "output_type": "display_data",
          "data": {
            "text/plain": [
              "<Figure size 720x720 with 9 Axes>"
            ],
            "image/png": "[encoded data removed]"
          },
          "metadata": {
            "needs_background": "light"
          }
        }
      ]
    },
    {
      "cell_type": "code",
      "source": [
        "## Finding the dominant topic in each sentence\n",
        "##One of the practical application of topic modeling is to determine what topic a given document is about.\n",
        "##To find that, we find the topic number that has the highest percentage contribution in that document.\n",
        "\n",
        "def format_topics_sentences(ldamodel=lda_model, corpus=corpus, texts=text_list):\n",
        "    # Init output\n",
        "    sent_topics_df = pd.DataFrame()\n",
        "\n",
        "    # Get main topic in each document\n",
        "    for i, row in enumerate(ldamodel[corpus]):\n",
        "        row = sorted(row, key=lambda x: (x[1]), reverse=True)\n",
        "        # Get the Dominant topic, Perc Contribution and Keywords for each document\n",
        "        for j, (topic_num, prop_topic) in enumerate(row):\n",
        "            if j == 0:  # => dominant topic\n",
        "                wp = ldamodel.show_topic(topic_num)\n",
        "                topic_keywords = \", \".join([word for word, prop in wp])\n",
        "                sent_topics_df = sent_topics_df.append(pd.Series([int(topic_num), round(prop_topic,4), topic_keywords]), ignore_index=True)\n",
        "            else:\n",
        "                break\n",
        "    sent_topics_df.columns = ['Dominant_Topic', 'Perc_Contribution', 'Topic_Keywords']\n",
        "\n",
        "    # Add original text to the end of the output\n",
        "    contents = pd.Series(texts)\n",
        "    sent_topics_df = pd.concat([sent_topics_df, contents], axis=1)\n",
        "    return(sent_topics_df)\n",
        "\n",
        "\n",
        "df_topic_sents_keywords = format_topics_sentences(ldamodel=optimal_model, corpus=corpus, texts=df_sampled['improvetext'])\n",
        "\n",
        "# Format\n",
        "df_dominant_topic = df_topic_sents_keywords.reset_index()\n",
        "df_dominant_topic.columns = ['Document_No', 'Dominant_Topic', 'Topic_Perc_Contrib', 'Keywords', 'Text']\n",
        "\n",
        "# Show\n",
        "df_dominant_topic.head(200)"
      ],
      "metadata": {
        "colab": {
          "base_uri": "https://localhost:8080/",
          "height": 468
        },
        "id": "xFfKg7wEA63Y",
        "outputId": "a5569b8c-874c-425d-dfff-451f04e8e953"
      },
      "execution_count": null,
      "outputs": [
        {
          "output_type": "execute_result",
          "data": {
            "text/plain": [
              "     Document_No  Dominant_Topic  Topic_Perc_Contrib  \\\n",
              "0              0             5.0              0.8125   \n",
              "1              1             9.0              0.4117   \n",
              "2              2             8.0              0.3687   \n",
              "3              3             0.0              0.0625   \n",
              "4              4             2.0              0.4836   \n",
              "..           ...             ...                 ...   \n",
              "195          195             8.0              0.3400   \n",
              "196          196             1.0              0.3899   \n",
              "197          197             2.0              0.2407   \n",
              "198          198             8.0              0.7174   \n",
              "199          199             2.0              0.3234   \n",
              "\n",
              "                                              Keywords  \\\n",
              "0    delivery, date, product, month, detail, inform...   \n",
              "1    product, delivery, purchase, customer, date, s...   \n",
              "2    information, account, number, payment, email, ...   \n",
              "3    information, product, date, day, item, status,...   \n",
              "4    number, laptop, delivery, tracking, shipping, ...   \n",
              "..                                                 ...   \n",
              "195  information, account, number, payment, email, ...   \n",
              "196  website, number, customer, date, email, ship, ...   \n",
              "197  number, laptop, delivery, tracking, shipping, ...   \n",
              "198  information, account, number, payment, email, ...   \n",
              "199  number, laptop, delivery, tracking, shipping, ...   \n",
              "\n",
              "                                                  Text  \n",
              "0    need information that track your correct with ...  \n",
              "1    would like care more about aftersales customer...  \n",
              "2                                                  NaN  \n",
              "3    communicate with someone deal with overchargin...  \n",
              "4                                      cant find first  \n",
              "..                                                 ...  \n",
              "195  hello query status extremely confusing also ha...  \n",
              "196  bought notebook days there update site status ...  \n",
              "197  would like have cell phone that gives same fun...  \n",
              "198  that information about status delivery more ac...  \n",
              "199  when logon account website doesnt display orde...  \n",
              "\n",
              "[200 rows x 5 columns]"
            ],
            "text/html": [
              "\n",
              "  <div id=\"df-026d069b-029b-43f3-aa1e-90489a057b29\">\n",
              "    <div class=\"colab-df-container\">\n",
              "      <div>\n",
              "<style scoped>\n",
              "    .dataframe tbody tr th:only-of-type {\n",
              "        vertical-align: middle;\n",
              "    }\n",
              "\n",
              "    .dataframe tbody tr th {\n",
              "        vertical-align: top;\n",
              "    }\n",
              "\n",
              "    .dataframe thead th {\n",
              "        text-align: right;\n",
              "    }\n",
              "</style>\n",
              "<table border=\"1\" class=\"dataframe\">\n",
              "  <thead>\n",
              "    <tr style=\"text-align: right;\">\n",
              "      <th></th>\n",
              "      <th>Document_No</th>\n",
              "      <th>Dominant_Topic</th>\n",
              "      <th>Topic_Perc_Contrib</th>\n",
              "      <th>Keywords</th>\n",
              "      <th>Text</th>\n",
              "    </tr>\n",
              "  </thead>\n",
              "  <tbody>\n",
              "    <tr>\n",
              "      <th>0</th>\n",
              "      <td>0</td>\n",
              "      <td>5.0</td>\n",
              "      <td>0.8125</td>\n",
              "      <td>delivery, date, product, month, detail, inform...</td>\n",
              "      <td>need information that track your correct with ...</td>\n",
              "    </tr>\n",
              "    <tr>\n",
              "      <th>1</th>\n",
              "      <td>1</td>\n",
              "      <td>9.0</td>\n",
              "      <td>0.4117</td>\n",
              "      <td>product, delivery, purchase, customer, date, s...</td>\n",
              "      <td>would like care more about aftersales customer...</td>\n",
              "    </tr>\n",
              "    <tr>\n",
              "      <th>2</th>\n",
              "      <td>2</td>\n",
              "      <td>8.0</td>\n",
              "      <td>0.3687</td>\n",
              "      <td>information, account, number, payment, email, ...</td>\n",
              "      <td>NaN</td>\n",
              "    </tr>\n",
              "    <tr>\n",
              "      <th>3</th>\n",
              "      <td>3</td>\n",
              "      <td>0.0</td>\n",
              "      <td>0.0625</td>\n",
              "      <td>information, product, date, day, item, status,...</td>\n",
              "      <td>communicate with someone deal with overchargin...</td>\n",
              "    </tr>\n",
              "    <tr>\n",
              "      <th>4</th>\n",
              "      <td>4</td>\n",
              "      <td>2.0</td>\n",
              "      <td>0.4836</td>\n",
              "      <td>number, laptop, delivery, tracking, shipping, ...</td>\n",
              "      <td>cant find first</td>\n",
              "    </tr>\n",
              "    <tr>\n",
              "      <th>...</th>\n",
              "      <td>...</td>\n",
              "      <td>...</td>\n",
              "      <td>...</td>\n",
              "      <td>...</td>\n",
              "      <td>...</td>\n",
              "    </tr>\n",
              "    <tr>\n",
              "      <th>195</th>\n",
              "      <td>195</td>\n",
              "      <td>8.0</td>\n",
              "      <td>0.3400</td>\n",
              "      <td>information, account, number, payment, email, ...</td>\n",
              "      <td>hello query status extremely confusing also ha...</td>\n",
              "    </tr>\n",
              "    <tr>\n",
              "      <th>196</th>\n",
              "      <td>196</td>\n",
              "      <td>1.0</td>\n",
              "      <td>0.3899</td>\n",
              "      <td>website, number, customer, date, email, ship, ...</td>\n",
              "      <td>bought notebook days there update site status ...</td>\n",
              "    </tr>\n",
              "    <tr>\n",
              "      <th>197</th>\n",
              "      <td>197</td>\n",
              "      <td>2.0</td>\n",
              "      <td>0.2407</td>\n",
              "      <td>number, laptop, delivery, tracking, shipping, ...</td>\n",
              "      <td>would like have cell phone that gives same fun...</td>\n",
              "    </tr>\n",
              "    <tr>\n",
              "      <th>198</th>\n",
              "      <td>198</td>\n",
              "      <td>8.0</td>\n",
              "      <td>0.7174</td>\n",
              "      <td>information, account, number, payment, email, ...</td>\n",
              "      <td>that information about status delivery more ac...</td>\n",
              "    </tr>\n",
              "    <tr>\n",
              "      <th>199</th>\n",
              "      <td>199</td>\n",
              "      <td>2.0</td>\n",
              "      <td>0.3234</td>\n",
              "      <td>number, laptop, delivery, tracking, shipping, ...</td>\n",
              "      <td>when logon account website doesnt display orde...</td>\n",
              "    </tr>\n",
              "  </tbody>\n",
              "</table>\n",
              "<p>200 rows × 5 columns</p>\n",
              "</div>\n",
              "      <button class=\"colab-df-convert\" onclick=\"convertToInteractive('df-026d069b-029b-43f3-aa1e-90489a057b29')\"\n",
              "              title=\"Convert this dataframe to an interactive table.\"\n",
              "              style=\"display:none;\">\n",
              "        \n",
              "  <svg xmlns=\"http://www.w3.org/2000/svg\" height=\"24px\"viewBox=\"0 0 24 24\"\n",
              "       width=\"24px\">\n",
              "    <path d=\"M0 0h24v24H0V0z\" fill=\"none\"/>\n",
              "    <path d=\"M18.56 5.44l.94 2.06.94-2.06 2.06-.94-2.06-.94-.94-2.06-.94 2.06-2.06.94zm-11 1L8.5 8.5l.94-2.06 2.06-.94-2.06-.94L8.5 2.5l-.94 2.06-2.06.94zm10 10l.94 2.06.94-2.06 2.06-.94-2.06-.94-.94-2.06-.94 2.06-2.06.94z\"/><path d=\"M17.41 7.96l-1.37-1.37c-.4-.4-.92-.59-1.43-.59-.52 0-1.04.2-1.43.59L10.3 9.45l-7.72 7.72c-.78.78-.78 2.05 0 2.83L4 21.41c.39.39.9.59 1.41.59.51 0 1.02-.2 1.41-.59l7.78-7.78 2.81-2.81c.8-.78.8-2.07 0-2.86zM5.41 20L4 18.59l7.72-7.72 1.47 1.35L5.41 20z\"/>\n",
              "  </svg>\n",
              "      </button>\n",
              "      \n",
              "  <style>\n",
              "    .colab-df-container {\n",
              "      display:flex;\n",
              "      flex-wrap:wrap;\n",
              "      gap: 12px;\n",
              "    }\n",
              "\n",
              "    .colab-df-convert {\n",
              "      background-color: #E8F0FE;\n",
              "      border: none;\n",
              "      border-radius: 50%;\n",
              "      cursor: pointer;\n",
              "      display: none;\n",
              "      fill: #1967D2;\n",
              "      height: 32px;\n",
              "      padding: 0 0 0 0;\n",
              "      width: 32px;\n",
              "    }\n",
              "\n",
              "    .colab-df-convert:hover {\n",
              "      background-color: #E2EBFA;\n",
              "      box-shadow: 0px 1px 2px rgba(60, 64, 67, 0.3), 0px 1px 3px 1px rgba(60, 64, 67, 0.15);\n",
              "      fill: #174EA6;\n",
              "    }\n",
              "\n",
              "    [theme=dark] .colab-df-convert {\n",
              "      background-color: #3B4455;\n",
              "      fill: #D2E3FC;\n",
              "    }\n",
              "\n",
              "    [theme=dark] .colab-df-convert:hover {\n",
              "      background-color: #434B5C;\n",
              "      box-shadow: 0px 1px 3px 1px rgba(0, 0, 0, 0.15);\n",
              "      filter: drop-shadow(0px 1px 2px rgba(0, 0, 0, 0.3));\n",
              "      fill: #FFFFFF;\n",
              "    }\n",
              "  </style>\n",
              "\n",
              "      <script>\n",
              "        const buttonEl =\n",
              "          document.querySelector('#df-026d069b-029b-43f3-aa1e-90489a057b29 button.colab-df-convert');\n",
              "        buttonEl.style.display =\n",
              "          google.colab.kernel.accessAllowed ? 'block' : 'none';\n",
              "\n",
              "        async function convertToInteractive(key) {\n",
              "          const element = document.querySelector('#df-026d069b-029b-43f3-aa1e-90489a057b29');\n",
              "          const dataTable =\n",
              "            await google.colab.kernel.invokeFunction('convertToInteractive',\n",
              "                                                     [key], {});\n",
              "          if (!dataTable) return;\n",
              "\n",
              "          const docLinkHtml = 'Like what you see? Visit the ' +\n",
              "            '<a target=\"_blank\" href=https://colab.research.google.com/notebooks/data_table.ipynb>data table notebook</a>'\n",
              "            + ' to learn more about interactive tables.';\n",
              "          element.innerHTML = '';\n",
              "          dataTable['output_type'] = 'display_data';\n",
              "          await google.colab.output.renderOutput(dataTable, element);\n",
              "          const docLink = document.createElement('div');\n",
              "          docLink.innerHTML = docLinkHtml;\n",
              "          element.appendChild(docLink);\n",
              "        }\n",
              "      </script>\n",
              "    </div>\n",
              "  </div>\n",
              "  "
            ]
          },
          "metadata": {},
          "execution_count": 116
        }
      ]
    },
    {
      "cell_type": "code",
      "source": [
        "df_dominant_topic.to_csv('DOMINANT TOPIC_12.csv')"
      ],
      "metadata": {
        "id": "JuZAXpfbDe9V"
      },
      "execution_count": null,
      "outputs": []
    },
    {
      "cell_type": "markdown",
      "source": [
        "Building LDA Mallet Model\n",
        "So far you have seen Gensim’s inbuilt version of the LDA algorithm. Mallet’s version, however, often gives a better quality of topics.\n",
        "\n",
        "Gensim provides a wrapper to implement Mallet’s LDA from within Gensim itself. "
      ],
      "metadata": {
        "id": "gzaMVMK-JLGf"
      }
    },
    {
      "cell_type": "code",
      "source": [
        "!pip install --upgrade gensim==3.8"
      ],
      "metadata": {
        "id": "MFT3sf8hbrUy"
      },
      "execution_count": null,
      "outputs": []
    },
    {
      "cell_type": "code",
      "source": [
        "import os       #importing os to set environment variable\n",
        "def install_java():\n",
        "  !apt-get install -y openjdk-8-jdk-headless -qq > /dev/null      #install openjdk\n",
        "  os.environ[\"JAVA_HOME\"] = \"/usr/lib/jvm/java-8-openjdk-amd64\"     #set environment variable\n",
        "  !java -version       #check java version\n",
        "install_java()"
      ],
      "metadata": {
        "colab": {
          "base_uri": "https://localhost:8080/"
        },
        "id": "FzEFtXDfbrX7",
        "outputId": "6318ae77-665f-42c1-8337-89ac207615aa"
      },
      "execution_count": null,
      "outputs": [
        {
          "output_type": "stream",
          "name": "stdout",
          "text": [
            "openjdk version \"11.0.15\" 2022-04-19\n",
            "OpenJDK Runtime Environment (build 11.0.15+10-Ubuntu-0ubuntu0.18.04.1)\n",
            "OpenJDK 64-Bit Server VM (build 11.0.15+10-Ubuntu-0ubuntu0.18.04.1, mixed mode, sharing)\n"
          ]
        }
      ]
    },
    {
      "cell_type": "code",
      "source": [
        "!wget http://mallet.cs.umass.edu/dist/mallet-2.0.8.zip\n",
        "!unzip mallet-2.0.8.zip"
      ],
      "metadata": {
        "id": "87fuD4xmbrbf"
      },
      "execution_count": null,
      "outputs": []
    },
    {
      "cell_type": "code",
      "source": [
        "import gensim\n",
        "import gensim.corpora as corpora\n",
        "from gensim.utils import simple_preprocess\n",
        "from gensim.models.wrappers import LdaMallet\n",
        "from gensim.models.coherencemodel import CoherenceModel\n",
        "from gensim import similarities\n",
        "\n",
        "import os.path\n",
        "import re\n",
        "import glob\n",
        "\n",
        "import nltk\n",
        "nltk.download('stopwords')\n",
        "\n",
        "from nltk.tokenize import RegexpTokenizer\n",
        "from nltk.corpus import stopwords"
      ],
      "metadata": {
        "colab": {
          "base_uri": "https://localhost:8080/"
        },
        "id": "wWRax0zHb5Qd",
        "outputId": "0cafd358-543b-4216-f3bb-814622be9877"
      },
      "execution_count": null,
      "outputs": [
        {
          "output_type": "stream",
          "name": "stderr",
          "text": [
            "[nltk_data] Downloading package stopwords to /root/nltk_data...\n",
            "[nltk_data]   Package stopwords is already up-to-date!\n"
          ]
        }
      ]
    },
    {
      "cell_type": "code",
      "source": [
        "os.environ['MALLET_HOME'] = '/content/mallet-2.0.8' ## often gives a better quality of topics.\n",
        "mallet_path = '/content/mallet-2.0.8/bin/mallet' # you should NOT need to change this \n",
        "##corpus_path = 'transcripts' # you need to change this path to the directory containing your corpus of .txt files"
      ],
      "metadata": {
        "id": "wGLQBNbxb5UW"
      },
      "execution_count": null,
      "outputs": []
    },
    {
      "cell_type": "code",
      "source": [
        "ldamallet = gensim.models.wrappers.LdaMallet(mallet_path, corpus=corpus, num_topics=15, id2word=id2word)"
      ],
      "metadata": {
        "id": "HeM3PVKzb5YL"
      },
      "execution_count": null,
      "outputs": []
    },
    {
      "cell_type": "code",
      "source": [
        "# Show Topics\n",
        "pprint(ldamallet.show_topics(formatted=False))"
      ],
      "metadata": {
        "id": "hZ4xs8pHc8Hs"
      },
      "execution_count": null,
      "outputs": []
    },
    {
      "cell_type": "code",
      "source": [
        "# Compute Coherence Score\n",
        "coherence_model_ldamallet = CoherenceModel(model=ldamallet, texts=data_lemmatized, dictionary=id2word, coherence='c_v')\n",
        "coherence_ldamallet = coherence_model_ldamallet.get_coherence()\n",
        "print('\\nCoherence Score: ', coherence_ldamallet)\n",
        "##Just by changing the LDA algorithm, we increased the coherence score from .44 to .71. Not bad!"
      ],
      "metadata": {
        "colab": {
          "base_uri": "https://localhost:8080/"
        },
        "id": "ZnrkYvmvc8LK",
        "outputId": "726cdbe7-361f-4bbe-8800-fb010c380d9e"
      },
      "execution_count": null,
      "outputs": [
        {
          "output_type": "stream",
          "name": "stdout",
          "text": [
            "\n",
            "Coherence Score:  0.3600209166739959\n"
          ]
        }
      ]
    },
    {
      "cell_type": "code",
      "source": [
        "import gensim    \n",
        "model = gensim.models.wrappers.ldamallet.malletmodel2ldamodel(ldamallet)"
      ],
      "metadata": {
        "id": "UJAcI-iXDz7A"
      },
      "execution_count": null,
      "outputs": []
    },
    {
      "cell_type": "code",
      "source": [
        "# 1. Wordcloud of Top N words in each topic\n",
        "from matplotlib import pyplot as plt\n",
        "from wordcloud import WordCloud, STOPWORDS\n",
        "import matplotlib.colors as mcolors\n",
        "\n",
        "cols = [color for name, color in mcolors.TABLEAU_COLORS.items()]  # more colors: 'mcolors.XKCD_COLORS'\n",
        "\n",
        "cloud = WordCloud(stopwords=stop_words,\n",
        "                  background_color='white',\n",
        "                  width=2500,\n",
        "                  height=1800,\n",
        "                  max_words=20,\n",
        "                  colormap='tab10',\n",
        "                  color_func=lambda *args, **kwargs: cols[i],\n",
        "                  prefer_horizontal=1.0)\n",
        "\n",
        "topics = model.show_topics(formatted=False)\n",
        "\n",
        "fig, axes = plt.subplots(3,3, figsize=(10,10), sharex=True, sharey=True)\n",
        "\n",
        "for i, ax in enumerate(axes.flatten()):\n",
        "    fig.add_subplot(ax)\n",
        "    topic_words = dict(topics[i][1])\n",
        "    cloud.generate_from_frequencies(topic_words, max_font_size=300)\n",
        "    plt.gca().imshow(cloud)\n",
        "    plt.gca().set_title('Topic ' + str(i), fontdict=dict(size=16))\n",
        "    plt.gca().axis('off')\n",
        "\n",
        "\n",
        "plt.subplots_adjust(wspace=0, hspace=0)\n",
        "plt.axis('off')\n",
        "plt.margins(x=0, y=0)\n",
        "plt.tight_layout()\n",
        "plt.show()"
      ],
      "metadata": {
        "id": "Zk1UJHsxw9Bj"
      },
      "execution_count": null,
      "outputs": []
    },
    {
      "cell_type": "code",
      "source": [
        "# Show Topics\n",
        "pprint(model.show_topics(formatted=False))"
      ],
      "metadata": {
        "id": "5_xY2NRdNXkM"
      },
      "execution_count": null,
      "outputs": []
    },
    {
      "cell_type": "code",
      "source": [
        "model"
      ],
      "metadata": {
        "colab": {
          "base_uri": "https://localhost:8080/"
        },
        "id": "Il4NnEssPTGQ",
        "outputId": "14064f0d-0ae5-48e6-8956-fd75e08761d8"
      },
      "execution_count": null,
      "outputs": [
        {
          "output_type": "execute_result",
          "data": {
            "text/plain": [
              "<gensim.models.ldamodel.LdaModel at 0x7f0a12c343d0>"
            ]
          },
          "metadata": {},
          "execution_count": 70
        }
      ]
    },
    {
      "cell_type": "code",
      "source": [
        "pprint(model.print_topics(num_words=15))"
      ],
      "metadata": {
        "id": "stg2rAUwuXPg"
      },
      "execution_count": null,
      "outputs": []
    },
    {
      "cell_type": "code",
      "source": [
        "\n",
        "\n",
        "# Visualize the topics\n",
        "pyLDAvis.enable_notebook()\n",
        "vis = pyLDAvis.gensim_models.prepare(model, corpus, id2word)\n",
        "vis"
      ],
      "metadata": {
        "id": "vSDryOSP9dz4"
      },
      "execution_count": null,
      "outputs": []
    },
    {
      "cell_type": "code",
      "source": [
        "df = pyLDAvis.gensim_models.prepare(model, corpus, id2word)"
      ],
      "metadata": {
        "colab": {
          "base_uri": "https://localhost:8080/"
        },
        "id": "nTx1WnuVesjs",
        "outputId": "763688a0-6c2c-4f75-ebff-80b50d9c9641"
      },
      "execution_count": null,
      "outputs": [
        {
          "output_type": "stream",
          "name": "stderr",
          "text": [
            "/usr/local/lib/python3.7/dist-packages/pyLDAvis/_prepare.py:247: FutureWarning: In a future version of pandas all arguments of DataFrame.drop except for the argument 'labels' will be keyword-only\n",
            "  by='saliency', ascending=False).head(R).drop('saliency', 1)\n"
          ]
        }
      ]
    },
    {
      "cell_type": "code",
      "source": [
        "## find the optimal number of topics for LDA  ##My approach to finding the optimal number of topics is to build many LDA\n",
        "## models with different values of number of topics (k) and pick the one that gives the highest coherence value.\n",
        "\n",
        "def compute_coherence_values(dictionary, corpus, texts, limit, start=2, step=3):\n",
        "    \"\"\"\n",
        "    Compute c_v coherence for various number of topics\n",
        "\n",
        "    Parameters:\n",
        "    ----------\n",
        "    dictionary : Gensim dictionary\n",
        "    corpus : Gensim corpus\n",
        "    texts : List of input texts\n",
        "    limit : Max num of topics\n",
        "\n",
        "    Returns:\n",
        "    -------\n",
        "    model_list : List of LDA topic models\n",
        "    coherence_values : Coherence values corresponding to the LDA model with respective number of topics\n",
        "    \"\"\"\n",
        "    coherence_values = []\n",
        "    model_list = []\n",
        "    for num_topics in range(start, limit, step):\n",
        "        model = gensim.models.wrappers.LdaMallet(mallet_path, corpus=corpus, num_topics=num_topics, id2word=id2word)\n",
        "        model_list.append(model)\n",
        "        coherencemodel = CoherenceModel(model=model, texts=texts, dictionary=dictionary, coherence='c_v')\n",
        "        coherence_values.append(coherencemodel.get_coherence())\n",
        "\n",
        "    return model_list, coherence_values"
      ],
      "metadata": {
        "id": "qda-6NXPdDPG"
      },
      "execution_count": null,
      "outputs": []
    },
    {
      "cell_type": "code",
      "source": [
        "# Can take a long time to run.\n",
        "model_list, coherence_values = compute_coherence_values(dictionary=id2word, corpus=corpus, texts=data_lemmatized, start=1, limit=18, step=3)"
      ],
      "metadata": {
        "id": "-g_kn3UedWnw"
      },
      "execution_count": null,
      "outputs": []
    },
    {
      "cell_type": "code",
      "source": [
        "# Show graph\n",
        "limit=18; start=1; step=3;\n",
        "x = range(start, limit, step)\n",
        "plt.plot(x, coherence_values)\n",
        "plt.xlabel(\"Num Topics\")\n",
        "plt.ylabel(\"Coherence score\")\n",
        "plt.legend((\"coherence_values\"), loc='best')\n",
        "plt.show()"
      ],
      "metadata": {
        "colab": {
          "base_uri": "https://localhost:8080/",
          "height": 279
        },
        "id": "hxZ7uB2wdWrF",
        "outputId": "982bf95b-13f6-49e6-abbe-726287c769c1"
      },
      "execution_count": null,
      "outputs": [
        {
          "output_type": "display_data",
          "data": {
            "text/plain": [
              "<Figure size 432x288 with 1 Axes>"
            ],
            "image/png": "[encoded data removed]"
          },
          "metadata": {
            "needs_background": "light"
          }
        }
      ]
    },
    {
      "cell_type": "code",
      "source": [
        "# Print the coherence scores\n",
        "for m, cv in zip(x, coherence_values):\n",
        "    print(\"Num Topics =\", m, \" has Coherence Value of\", round(cv, 4))"
      ],
      "metadata": {
        "colab": {
          "base_uri": "https://localhost:8080/"
        },
        "id": "G7X0GZhGdf3n",
        "outputId": "1073f258-83de-4bf0-8303-6a2aa91c1bac"
      },
      "execution_count": null,
      "outputs": [
        {
          "output_type": "stream",
          "name": "stdout",
          "text": [
            "Num Topics = 1  has Coherence Value of 0.292\n",
            "Num Topics = 4  has Coherence Value of 0.4127\n",
            "Num Topics = 7  has Coherence Value of 0.3305\n",
            "Num Topics = 10  has Coherence Value of 0.32\n",
            "Num Topics = 13  has Coherence Value of 0.3435\n",
            "Num Topics = 16  has Coherence Value of 0.3638\n"
          ]
        }
      ]
    },
    {
      "cell_type": "code",
      "source": [
        "pprint(model_list)"
      ],
      "metadata": {
        "colab": {
          "base_uri": "https://localhost:8080/"
        },
        "id": "ydYVAlrcyy5S",
        "outputId": "faecc858-c5ba-4b6c-d4d0-ec152580103b"
      },
      "execution_count": null,
      "outputs": [
        {
          "output_type": "stream",
          "name": "stdout",
          "text": [
            "[<gensim.models.wrappers.ldamallet.LdaMallet object at 0x7f0a0b3ed750>,\n",
            " <gensim.models.wrappers.ldamallet.LdaMallet object at 0x7f0a134a6bd0>,\n",
            " <gensim.models.wrappers.ldamallet.LdaMallet object at 0x7f0a0b4a0850>,\n",
            " <gensim.models.wrappers.ldamallet.LdaMallet object at 0x7f0a0b417bd0>,\n",
            " <gensim.models.wrappers.ldamallet.LdaMallet object at 0x7f0a1386acd0>,\n",
            " <gensim.models.wrappers.ldamallet.LdaMallet object at 0x7f0a0b34cfd0>]\n"
          ]
        }
      ]
    },
    {
      "cell_type": "code",
      "source": [
        "##If the coherence score seems to keep increasing, it may make better sense to pick the model that gave the highest CV before flattening out.\n",
        "# Select the model and print the topics\n",
        "optimal_model = model_list[5]\n",
        "model_topics = optimal_model.show_topics(formatted=False)\n",
        "pprint(optimal_model.print_topics(num_words=20))\n",
        "\n",
        "\n",
        "# 1. Wordcloud of Top N words in each topic\n",
        "from matplotlib import pyplot as plt\n",
        "from wordcloud import WordCloud, STOPWORDS\n",
        "import matplotlib.colors as mcolors\n",
        "\n",
        "cols = [color for name, color in mcolors.TABLEAU_COLORS.items()]  # more colors: 'mcolors.XKCD_COLORS'\n",
        "\n",
        "cloud = WordCloud(stopwords=stop_words,\n",
        "                  background_color='white',\n",
        "                  width=2500,\n",
        "                  height=1800,\n",
        "                  max_words=20,\n",
        "                  colormap='tab10',\n",
        "                  color_func=lambda *args, **kwargs: cols[i],\n",
        "                  prefer_horizontal=1.0)\n",
        "\n",
        "topics = optimal_model.show_topics(formatted=False)\n",
        "\n",
        "fig, axes = plt.subplots(3,3, figsize=(10,10), sharex=True, sharey=True)\n",
        "\n",
        "for i, ax in enumerate(axes.flatten()):\n",
        "    fig.add_subplot(ax)\n",
        "    topic_words = dict(topics[i][1])\n",
        "    cloud.generate_from_frequencies(topic_words, max_font_size=300)\n",
        "    plt.gca().imshow(cloud)\n",
        "    plt.gca().set_title('Topic ' + str(i), fontdict=dict(size=16))\n",
        "    plt.gca().axis('off')"
      ],
      "metadata": {
        "id": "jF8B9o5Ddf7I"
      },
      "execution_count": null,
      "outputs": []
    },
    {
      "cell_type": "code",
      "source": [
        "# 1. Wordcloud of Top N words in each topic\n",
        "from matplotlib import pyplot as plt\n",
        "from wordcloud import WordCloud, STOPWORDS\n",
        "import matplotlib.colors as mcolors\n",
        "\n",
        "cols = [color for name, color in mcolors.TABLEAU_COLORS.items()]  # more colors: 'mcolors.XKCD_COLORS'\n",
        "\n",
        "cloud = WordCloud(stopwords=stop_words,\n",
        "                  background_color='white',\n",
        "                  width=2500,\n",
        "                  height=1800,\n",
        "                  max_words=20,\n",
        "                  colormap='tab10',\n",
        "                  color_func=lambda *args, **kwargs: cols[i],\n",
        "                  prefer_horizontal=1.0)\n",
        "\n",
        "topics = optimal_model.show_topics(formatted=False)\n",
        "\n",
        "fig, axes = plt.subplots(3,3, figsize=(10,10), sharex=True, sharey=True)\n",
        "\n",
        "for i, ax in enumerate(axes.flatten()):\n",
        "    fig.add_subplot(ax)\n",
        "    topic_words = dict(topics[i][1])\n",
        "    cloud.generate_from_frequencies(topic_words, max_font_size=300)\n",
        "    plt.gca().imshow(cloud)\n",
        "    plt.gca().set_title('Topic ' + str(i), fontdict=dict(size=16))\n",
        "    plt.gca().axis('off')\n",
        "\n",
        "\n",
        "plt.subplots_adjust(wspace=0, hspace=0)\n",
        "plt.axis('off')\n",
        "plt.margins(x=0, y=0)\n",
        "plt.tight_layout()\n",
        "plt.show()"
      ],
      "metadata": {
        "colab": {
          "base_uri": "https://localhost:8080/",
          "height": 665
        },
        "id": "UX2PuRIUem4j",
        "outputId": "cc94caf6-0fbb-4a68-d463-10f655e06ab1"
      },
      "execution_count": null,
      "outputs": [
        {
          "output_type": "display_data",
          "data": {
            "text/plain": [
              "<Figure size 720x720 with 9 Axes>"
            ],
            "image/png": "[encoded data removed]"
          },
          "metadata": {
            "needs_background": "light"
          }
        }
      ]
    },
    {
      "cell_type": "code",
      "source": [
        "## Finding the dominant topic in each sentence\n",
        "##One of the practical application of topic modeling is to determine what topic a given document is about.\n",
        "##To find that, we find the topic number that has the highest percentage contribution in that document.\n",
        "\n",
        "def format_topics_sentences(ldamodel=lda_model, corpus=corpus, texts=text_list):\n",
        "    # Init output\n",
        "    sent_topics_df = pd.DataFrame()\n",
        "\n",
        "    # Get main topic in each document\n",
        "    for i, row in enumerate(ldamodel[corpus]):\n",
        "        row = sorted(row, key=lambda x: (x[1]), reverse=True)\n",
        "        # Get the Dominant topic, Perc Contribution and Keywords for each document\n",
        "        for j, (topic_num, prop_topic) in enumerate(row):\n",
        "            if j == 0:  # => dominant topic\n",
        "                wp = ldamodel.show_topic(topic_num)\n",
        "                topic_keywords = \", \".join([word for word, prop in wp])\n",
        "                sent_topics_df = sent_topics_df.append(pd.Series([int(topic_num), round(prop_topic,4), topic_keywords]), ignore_index=True)\n",
        "            else:\n",
        "                break\n",
        "    sent_topics_df.columns = ['Dominant_Topic', 'Perc_Contribution', 'Topic_Keywords']\n",
        "\n",
        "    # Add original text to the end of the output\n",
        "    contents = pd.Series(texts)\n",
        "    sent_topics_df = pd.concat([sent_topics_df, contents], axis=1)\n",
        "    return(sent_topics_df)\n",
        "\n",
        "\n",
        "df_topic_sents_keywords = format_topics_sentences(ldamodel=optimal_model, corpus=corpus, texts=df_sampled['improvetext'])\n",
        "\n",
        "# Format\n",
        "df_dominant_topic = df_topic_sents_keywords.reset_index()\n",
        "df_dominant_topic.columns = ['Document_No', 'Dominant_Topic', 'Topic_Perc_Contrib', 'Keywords', 'Text']\n",
        "\n",
        "# Show\n",
        "df_dominant_topic.head(200)"
      ],
      "metadata": {
        "id": "I03vor5BdmLO"
      },
      "execution_count": null,
      "outputs": []
    },
    {
      "cell_type": "code",
      "source": [
        "type(df_dominant_topic)"
      ],
      "metadata": {
        "colab": {
          "base_uri": "https://localhost:8080/"
        },
        "id": "1WmCo57xLbwD",
        "outputId": "aaf71d2a-9eb6-49a7-fa80-297d72a1c71b"
      },
      "execution_count": null,
      "outputs": [
        {
          "output_type": "execute_result",
          "data": {
            "text/plain": [
              "pandas.core.frame.DataFrame"
            ]
          },
          "metadata": {},
          "execution_count": 81
        }
      ]
    },
    {
      "cell_type": "code",
      "source": [
        "df_dominant_topic.to_csv('data12.csv')"
      ],
      "metadata": {
        "id": "TC7GzQI_MKU_"
      },
      "execution_count": null,
      "outputs": []
    },
    {
      "cell_type": "code",
      "source": [],
      "metadata": {
        "id": "CEpfkylJLnmP"
      },
      "execution_count": null,
      "outputs": []
    },
    {
      "cell_type": "code",
      "source": [
        "## Find the most representative document for each topic\n",
        "\"\"\"Sometimes just the topic keywords may not be enough to make sense of what a topic is about. So, to help with understanding the topic, \n",
        "you can find the documents a given topic has contributed to the most and infer the topic by reading that document. Whew!!\"\"\"\n",
        "\n",
        "# Group top 5 sentences under each topic\n",
        "sent_topics_sorteddf_mallet = pd.DataFrame()\n",
        "\n",
        "sent_topics_outdf_grpd = df_topic_sents_keywords.groupby('Dominant_Topic')\n",
        "\n",
        "for i, grp in sent_topics_outdf_grpd:\n",
        "    sent_topics_sorteddf_mallet = pd.concat([sent_topics_sorteddf_mallet, \n",
        "                                             grp.sort_values(['Perc_Contribution'], ascending=[0]).head(1)], \n",
        "                                            axis=0)\n",
        "\n",
        "# Reset Index    \n",
        "sent_topics_sorteddf_mallet.reset_index(drop=True, inplace=True)\n",
        "\n",
        "# Format\n",
        "sent_topics_sorteddf_mallet.columns = ['Topic_Num', \"Topic_Perc_Contrib\", \"Keywords\", \"Text\"]\n",
        "\n",
        "# Show\n",
        "sent_topics_sorteddf_mallet.head()"
      ],
      "metadata": {
        "id": "S0bf1ebTdmPy",
        "colab": {
          "base_uri": "https://localhost:8080/",
          "height": 337
        },
        "outputId": "51912223-4fa2-4bb5-9f78-ad1cc5b9915c"
      },
      "execution_count": null,
      "outputs": [
        {
          "output_type": "execute_result",
          "data": {
            "text/plain": [
              "   Topic_Num  Topic_Perc_Contrib  \\\n",
              "0        0.0              0.1509   \n",
              "1        1.0              0.0915   \n",
              "2        2.0              0.1131   \n",
              "3        3.0              0.1595   \n",
              "4        4.0              0.1375   \n",
              "\n",
              "                                            Keywords  \\\n",
              "0  support, call, page, case, response, favor, re...   \n",
              "1  order, return, invoice, explanation, productio...   \n",
              "2  information, address, answer, refund, access, ...   \n",
              "3  email, item, label, message, aftersale, friend...   \n",
              "4  date, delivery, person, phone, business, morni...   \n",
              "\n",
              "                                                Text  \n",
              "0  ongoing support case absolutely mechanism cont...  \n",
              "1  order cancelled explanation would like explana...  \n",
              "2  call phone provide answers music hours theres ...  \n",
              "3  applied return process haven39t received email...  \n",
              "4  ridiculous dell totally disappointed dell orde...  "
            ],
            "text/html": [
              "\n",
              "  <div id=\"df-77889aa7-591c-4d2a-a303-dc11131d9f5b\">\n",
              "    <div class=\"colab-df-container\">\n",
              "      <div>\n",
              "<style scoped>\n",
              "    .dataframe tbody tr th:only-of-type {\n",
              "        vertical-align: middle;\n",
              "    }\n",
              "\n",
              "    .dataframe tbody tr th {\n",
              "        vertical-align: top;\n",
              "    }\n",
              "\n",
              "    .dataframe thead th {\n",
              "        text-align: right;\n",
              "    }\n",
              "</style>\n",
              "<table border=\"1\" class=\"dataframe\">\n",
              "  <thead>\n",
              "    <tr style=\"text-align: right;\">\n",
              "      <th></th>\n",
              "      <th>Topic_Num</th>\n",
              "      <th>Topic_Perc_Contrib</th>\n",
              "      <th>Keywords</th>\n",
              "      <th>Text</th>\n",
              "    </tr>\n",
              "  </thead>\n",
              "  <tbody>\n",
              "    <tr>\n",
              "      <th>0</th>\n",
              "      <td>0.0</td>\n",
              "      <td>0.1509</td>\n",
              "      <td>support, call, page, case, response, favor, re...</td>\n",
              "      <td>ongoing support case absolutely mechanism cont...</td>\n",
              "    </tr>\n",
              "    <tr>\n",
              "      <th>1</th>\n",
              "      <td>1.0</td>\n",
              "      <td>0.0915</td>\n",
              "      <td>order, return, invoice, explanation, productio...</td>\n",
              "      <td>order cancelled explanation would like explana...</td>\n",
              "    </tr>\n",
              "    <tr>\n",
              "      <th>2</th>\n",
              "      <td>2.0</td>\n",
              "      <td>0.1131</td>\n",
              "      <td>information, address, answer, refund, access, ...</td>\n",
              "      <td>call phone provide answers music hours theres ...</td>\n",
              "    </tr>\n",
              "    <tr>\n",
              "      <th>3</th>\n",
              "      <td>3.0</td>\n",
              "      <td>0.1595</td>\n",
              "      <td>email, item, label, message, aftersale, friend...</td>\n",
              "      <td>applied return process haven39t received email...</td>\n",
              "    </tr>\n",
              "    <tr>\n",
              "      <th>4</th>\n",
              "      <td>4.0</td>\n",
              "      <td>0.1375</td>\n",
              "      <td>date, delivery, person, phone, business, morni...</td>\n",
              "      <td>ridiculous dell totally disappointed dell orde...</td>\n",
              "    </tr>\n",
              "  </tbody>\n",
              "</table>\n",
              "</div>\n",
              "      <button class=\"colab-df-convert\" onclick=\"convertToInteractive('df-77889aa7-591c-4d2a-a303-dc11131d9f5b')\"\n",
              "              title=\"Convert this dataframe to an interactive table.\"\n",
              "              style=\"display:none;\">\n",
              "        \n",
              "  <svg xmlns=\"http://www.w3.org/2000/svg\" height=\"24px\"viewBox=\"0 0 24 24\"\n",
              "       width=\"24px\">\n",
              "    <path d=\"M0 0h24v24H0V0z\" fill=\"none\"/>\n",
              "    <path d=\"M18.56 5.44l.94 2.06.94-2.06 2.06-.94-2.06-.94-.94-2.06-.94 2.06-2.06.94zm-11 1L8.5 8.5l.94-2.06 2.06-.94-2.06-.94L8.5 2.5l-.94 2.06-2.06.94zm10 10l.94 2.06.94-2.06 2.06-.94-2.06-.94-.94-2.06-.94 2.06-2.06.94z\"/><path d=\"M17.41 7.96l-1.37-1.37c-.4-.4-.92-.59-1.43-.59-.52 0-1.04.2-1.43.59L10.3 9.45l-7.72 7.72c-.78.78-.78 2.05 0 2.83L4 21.41c.39.39.9.59 1.41.59.51 0 1.02-.2 1.41-.59l7.78-7.78 2.81-2.81c.8-.78.8-2.07 0-2.86zM5.41 20L4 18.59l7.72-7.72 1.47 1.35L5.41 20z\"/>\n",
              "  </svg>\n",
              "      </button>\n",
              "      \n",
              "  <style>\n",
              "    .colab-df-container {\n",
              "      display:flex;\n",
              "      flex-wrap:wrap;\n",
              "      gap: 12px;\n",
              "    }\n",
              "\n",
              "    .colab-df-convert {\n",
              "      background-color: #E8F0FE;\n",
              "      border: none;\n",
              "      border-radius: 50%;\n",
              "      cursor: pointer;\n",
              "      display: none;\n",
              "      fill: #1967D2;\n",
              "      height: 32px;\n",
              "      padding: 0 0 0 0;\n",
              "      width: 32px;\n",
              "    }\n",
              "\n",
              "    .colab-df-convert:hover {\n",
              "      background-color: #E2EBFA;\n",
              "      box-shadow: 0px 1px 2px rgba(60, 64, 67, 0.3), 0px 1px 3px 1px rgba(60, 64, 67, 0.15);\n",
              "      fill: #174EA6;\n",
              "    }\n",
              "\n",
              "    [theme=dark] .colab-df-convert {\n",
              "      background-color: #3B4455;\n",
              "      fill: #D2E3FC;\n",
              "    }\n",
              "\n",
              "    [theme=dark] .colab-df-convert:hover {\n",
              "      background-color: #434B5C;\n",
              "      box-shadow: 0px 1px 3px 1px rgba(0, 0, 0, 0.15);\n",
              "      filter: drop-shadow(0px 1px 2px rgba(0, 0, 0, 0.3));\n",
              "      fill: #FFFFFF;\n",
              "    }\n",
              "  </style>\n",
              "\n",
              "      <script>\n",
              "        const buttonEl =\n",
              "          document.querySelector('#df-77889aa7-591c-4d2a-a303-dc11131d9f5b button.colab-df-convert');\n",
              "        buttonEl.style.display =\n",
              "          google.colab.kernel.accessAllowed ? 'block' : 'none';\n",
              "\n",
              "        async function convertToInteractive(key) {\n",
              "          const element = document.querySelector('#df-77889aa7-591c-4d2a-a303-dc11131d9f5b');\n",
              "          const dataTable =\n",
              "            await google.colab.kernel.invokeFunction('convertToInteractive',\n",
              "                                                     [key], {});\n",
              "          if (!dataTable) return;\n",
              "\n",
              "          const docLinkHtml = 'Like what you see? Visit the ' +\n",
              "            '<a target=\"_blank\" href=https://colab.research.google.com/notebooks/data_table.ipynb>data table notebook</a>'\n",
              "            + ' to learn more about interactive tables.';\n",
              "          element.innerHTML = '';\n",
              "          dataTable['output_type'] = 'display_data';\n",
              "          await google.colab.output.renderOutput(dataTable, element);\n",
              "          const docLink = document.createElement('div');\n",
              "          docLink.innerHTML = docLinkHtml;\n",
              "          element.appendChild(docLink);\n",
              "        }\n",
              "      </script>\n",
              "    </div>\n",
              "  </div>\n",
              "  "
            ]
          },
          "metadata": {},
          "execution_count": 232
        }
      ]
    },
    {
      "cell_type": "code",
      "source": [
        "type(sent_topics_sorteddf_mallet.columns)"
      ],
      "metadata": {
        "colab": {
          "base_uri": "https://localhost:8080/"
        },
        "id": "2IFgCfAgKYIy",
        "outputId": "9630c25a-cecf-40b3-e952-2dc5e155c872"
      },
      "execution_count": null,
      "outputs": [
        {
          "output_type": "execute_result",
          "data": {
            "text/plain": [
              "pandas.core.indexes.base.Index"
            ]
          },
          "metadata": {},
          "execution_count": 228
        }
      ]
    },
    {
      "cell_type": "code",
      "source": [
        "sent_topics_sorteddf_mallet.columns.to_frame()"
      ],
      "metadata": {
        "colab": {
          "base_uri": "https://localhost:8080/",
          "height": 193
        },
        "id": "-wOlG77_K_Pd",
        "outputId": "ffe46b26-c386-4a31-c41a-cff777fcf176"
      },
      "execution_count": null,
      "outputs": [
        {
          "output_type": "execute_result",
          "data": {
            "text/plain": [
              "                                     0\n",
              "Topic_Num                    Topic_Num\n",
              "Topic_Perc_Contrib  Topic_Perc_Contrib\n",
              "Keywords                      Keywords\n",
              "Text                              Text"
            ],
            "text/html": [
              "\n",
              "  <div id=\"df-09f6168a-a931-4879-91bd-6a350357bc4c\">\n",
              "    <div class=\"colab-df-container\">\n",
              "      <div>\n",
              "<style scoped>\n",
              "    .dataframe tbody tr th:only-of-type {\n",
              "        vertical-align: middle;\n",
              "    }\n",
              "\n",
              "    .dataframe tbody tr th {\n",
              "        vertical-align: top;\n",
              "    }\n",
              "\n",
              "    .dataframe thead th {\n",
              "        text-align: right;\n",
              "    }\n",
              "</style>\n",
              "<table border=\"1\" class=\"dataframe\">\n",
              "  <thead>\n",
              "    <tr style=\"text-align: right;\">\n",
              "      <th></th>\n",
              "      <th>0</th>\n",
              "    </tr>\n",
              "  </thead>\n",
              "  <tbody>\n",
              "    <tr>\n",
              "      <th>Topic_Num</th>\n",
              "      <td>Topic_Num</td>\n",
              "    </tr>\n",
              "    <tr>\n",
              "      <th>Topic_Perc_Contrib</th>\n",
              "      <td>Topic_Perc_Contrib</td>\n",
              "    </tr>\n",
              "    <tr>\n",
              "      <th>Keywords</th>\n",
              "      <td>Keywords</td>\n",
              "    </tr>\n",
              "    <tr>\n",
              "      <th>Text</th>\n",
              "      <td>Text</td>\n",
              "    </tr>\n",
              "  </tbody>\n",
              "</table>\n",
              "</div>\n",
              "      <button class=\"colab-df-convert\" onclick=\"convertToInteractive('df-09f6168a-a931-4879-91bd-6a350357bc4c')\"\n",
              "              title=\"Convert this dataframe to an interactive table.\"\n",
              "              style=\"display:none;\">\n",
              "        \n",
              "  <svg xmlns=\"http://www.w3.org/2000/svg\" height=\"24px\"viewBox=\"0 0 24 24\"\n",
              "       width=\"24px\">\n",
              "    <path d=\"M0 0h24v24H0V0z\" fill=\"none\"/>\n",
              "    <path d=\"M18.56 5.44l.94 2.06.94-2.06 2.06-.94-2.06-.94-.94-2.06-.94 2.06-2.06.94zm-11 1L8.5 8.5l.94-2.06 2.06-.94-2.06-.94L8.5 2.5l-.94 2.06-2.06.94zm10 10l.94 2.06.94-2.06 2.06-.94-2.06-.94-.94-2.06-.94 2.06-2.06.94z\"/><path d=\"M17.41 7.96l-1.37-1.37c-.4-.4-.92-.59-1.43-.59-.52 0-1.04.2-1.43.59L10.3 9.45l-7.72 7.72c-.78.78-.78 2.05 0 2.83L4 21.41c.39.39.9.59 1.41.59.51 0 1.02-.2 1.41-.59l7.78-7.78 2.81-2.81c.8-.78.8-2.07 0-2.86zM5.41 20L4 18.59l7.72-7.72 1.47 1.35L5.41 20z\"/>\n",
              "  </svg>\n",
              "      </button>\n",
              "      \n",
              "  <style>\n",
              "    .colab-df-container {\n",
              "      display:flex;\n",
              "      flex-wrap:wrap;\n",
              "      gap: 12px;\n",
              "    }\n",
              "\n",
              "    .colab-df-convert {\n",
              "      background-color: #E8F0FE;\n",
              "      border: none;\n",
              "      border-radius: 50%;\n",
              "      cursor: pointer;\n",
              "      display: none;\n",
              "      fill: #1967D2;\n",
              "      height: 32px;\n",
              "      padding: 0 0 0 0;\n",
              "      width: 32px;\n",
              "    }\n",
              "\n",
              "    .colab-df-convert:hover {\n",
              "      background-color: #E2EBFA;\n",
              "      box-shadow: 0px 1px 2px rgba(60, 64, 67, 0.3), 0px 1px 3px 1px rgba(60, 64, 67, 0.15);\n",
              "      fill: #174EA6;\n",
              "    }\n",
              "\n",
              "    [theme=dark] .colab-df-convert {\n",
              "      background-color: #3B4455;\n",
              "      fill: #D2E3FC;\n",
              "    }\n",
              "\n",
              "    [theme=dark] .colab-df-convert:hover {\n",
              "      background-color: #434B5C;\n",
              "      box-shadow: 0px 1px 3px 1px rgba(0, 0, 0, 0.15);\n",
              "      filter: drop-shadow(0px 1px 2px rgba(0, 0, 0, 0.3));\n",
              "      fill: #FFFFFF;\n",
              "    }\n",
              "  </style>\n",
              "\n",
              "      <script>\n",
              "        const buttonEl =\n",
              "          document.querySelector('#df-09f6168a-a931-4879-91bd-6a350357bc4c button.colab-df-convert');\n",
              "        buttonEl.style.display =\n",
              "          google.colab.kernel.accessAllowed ? 'block' : 'none';\n",
              "\n",
              "        async function convertToInteractive(key) {\n",
              "          const element = document.querySelector('#df-09f6168a-a931-4879-91bd-6a350357bc4c');\n",
              "          const dataTable =\n",
              "            await google.colab.kernel.invokeFunction('convertToInteractive',\n",
              "                                                     [key], {});\n",
              "          if (!dataTable) return;\n",
              "\n",
              "          const docLinkHtml = 'Like what you see? Visit the ' +\n",
              "            '<a target=\"_blank\" href=https://colab.research.google.com/notebooks/data_table.ipynb>data table notebook</a>'\n",
              "            + ' to learn more about interactive tables.';\n",
              "          element.innerHTML = '';\n",
              "          dataTable['output_type'] = 'display_data';\n",
              "          await google.colab.output.renderOutput(dataTable, element);\n",
              "          const docLink = document.createElement('div');\n",
              "          docLink.innerHTML = docLinkHtml;\n",
              "          element.appendChild(docLink);\n",
              "        }\n",
              "      </script>\n",
              "    </div>\n",
              "  </div>\n",
              "  "
            ]
          },
          "metadata": {},
          "execution_count": 227
        }
      ]
    },
    {
      "cell_type": "code",
      "source": [
        "# Number of Documents for Each Topic\n",
        "topic_counts = df_topic_sents_keywords['Dominant_Topic'].value_counts()\n",
        "\n",
        "# Percentage of Documents for Each Topic\n",
        "topic_contribution = round(topic_counts/topic_counts.sum(), 4)\n",
        "\n",
        "# Topic Number and Keywords\n",
        "topic_num_keywords = df_topic_sents_keywords[['Dominant_Topic', 'Topic_Keywords']]\n",
        "\n",
        "# Concatenate Column wise\n",
        "df_dominant_topics = pd.concat([topic_num_keywords, topic_counts, topic_contribution], axis=1)\n",
        "\n",
        "# Change Column names\n",
        "df_dominant_topics.columns = ['Dominant_Topic', 'Topic_Keywords', 'Num_Documents', 'Perc_Documents']\n",
        "\n",
        "# Show\n",
        "df_dominant_topics"
      ],
      "metadata": {
        "colab": {
          "base_uri": "https://localhost:8080/",
          "height": 424
        },
        "id": "fZqaqiwddnj_",
        "outputId": "1195252b-396b-4821-bdad-a62746118ad1"
      },
      "execution_count": null,
      "outputs": [
        {
          "output_type": "execute_result",
          "data": {
            "text/plain": [
              "      Dominant_Topic                                     Topic_Keywords  \\\n",
              "0.0             10.0  status, track, product, unable, list, shipper,...   \n",
              "1.0              0.0  support, call, page, case, response, favor, re...   \n",
              "2.0              0.0  support, call, page, case, response, favor, re...   \n",
              "3.0              6.0  order, buyer, good, month, taxis, keyboard, na...   \n",
              "4.0             14.0  service, hour, week, replacement, money, monit...   \n",
              "...              ...                                                ...   \n",
              "91.0            14.0  service, hour, week, replacement, money, monit...   \n",
              "92.0            11.0  product, order, laptop, black, screen, softwar...   \n",
              "93.0            10.0  status, track, product, unable, list, shipper,...   \n",
              "94.0             7.0  customer, purchase, search, supply, invalid, a...   \n",
              "95.0             1.0  order, return, invoice, explanation, productio...   \n",
              "\n",
              "      Num_Documents  Perc_Documents  \n",
              "0.0             5.0          0.0521  \n",
              "1.0             4.0          0.0417  \n",
              "2.0             4.0          0.0417  \n",
              "3.0             4.0          0.0417  \n",
              "4.0             8.0          0.0833  \n",
              "...             ...             ...  \n",
              "91.0            NaN             NaN  \n",
              "92.0            NaN             NaN  \n",
              "93.0            NaN             NaN  \n",
              "94.0            NaN             NaN  \n",
              "95.0            NaN             NaN  \n",
              "\n",
              "[96 rows x 4 columns]"
            ],
            "text/html": [
              "\n",
              "  <div id=\"df-3de99a66-8ded-4261-a09d-26714f516b7a\">\n",
              "    <div class=\"colab-df-container\">\n",
              "      <div>\n",
              "<style scoped>\n",
              "    .dataframe tbody tr th:only-of-type {\n",
              "        vertical-align: middle;\n",
              "    }\n",
              "\n",
              "    .dataframe tbody tr th {\n",
              "        vertical-align: top;\n",
              "    }\n",
              "\n",
              "    .dataframe thead th {\n",
              "        text-align: right;\n",
              "    }\n",
              "</style>\n",
              "<table border=\"1\" class=\"dataframe\">\n",
              "  <thead>\n",
              "    <tr style=\"text-align: right;\">\n",
              "      <th></th>\n",
              "      <th>Dominant_Topic</th>\n",
              "      <th>Topic_Keywords</th>\n",
              "      <th>Num_Documents</th>\n",
              "      <th>Perc_Documents</th>\n",
              "    </tr>\n",
              "  </thead>\n",
              "  <tbody>\n",
              "    <tr>\n",
              "      <th>0.0</th>\n",
              "      <td>10.0</td>\n",
              "      <td>status, track, product, unable, list, shipper,...</td>\n",
              "      <td>5.0</td>\n",
              "      <td>0.0521</td>\n",
              "    </tr>\n",
              "    <tr>\n",
              "      <th>1.0</th>\n",
              "      <td>0.0</td>\n",
              "      <td>support, call, page, case, response, favor, re...</td>\n",
              "      <td>4.0</td>\n",
              "      <td>0.0417</td>\n",
              "    </tr>\n",
              "    <tr>\n",
              "      <th>2.0</th>\n",
              "      <td>0.0</td>\n",
              "      <td>support, call, page, case, response, favor, re...</td>\n",
              "      <td>4.0</td>\n",
              "      <td>0.0417</td>\n",
              "    </tr>\n",
              "    <tr>\n",
              "      <th>3.0</th>\n",
              "      <td>6.0</td>\n",
              "      <td>order, buyer, good, month, taxis, keyboard, na...</td>\n",
              "      <td>4.0</td>\n",
              "      <td>0.0417</td>\n",
              "    </tr>\n",
              "    <tr>\n",
              "      <th>4.0</th>\n",
              "      <td>14.0</td>\n",
              "      <td>service, hour, week, replacement, money, monit...</td>\n",
              "      <td>8.0</td>\n",
              "      <td>0.0833</td>\n",
              "    </tr>\n",
              "    <tr>\n",
              "      <th>...</th>\n",
              "      <td>...</td>\n",
              "      <td>...</td>\n",
              "      <td>...</td>\n",
              "      <td>...</td>\n",
              "    </tr>\n",
              "    <tr>\n",
              "      <th>91.0</th>\n",
              "      <td>14.0</td>\n",
              "      <td>service, hour, week, replacement, money, monit...</td>\n",
              "      <td>NaN</td>\n",
              "      <td>NaN</td>\n",
              "    </tr>\n",
              "    <tr>\n",
              "      <th>92.0</th>\n",
              "      <td>11.0</td>\n",
              "      <td>product, order, laptop, black, screen, softwar...</td>\n",
              "      <td>NaN</td>\n",
              "      <td>NaN</td>\n",
              "    </tr>\n",
              "    <tr>\n",
              "      <th>93.0</th>\n",
              "      <td>10.0</td>\n",
              "      <td>status, track, product, unable, list, shipper,...</td>\n",
              "      <td>NaN</td>\n",
              "      <td>NaN</td>\n",
              "    </tr>\n",
              "    <tr>\n",
              "      <th>94.0</th>\n",
              "      <td>7.0</td>\n",
              "      <td>customer, purchase, search, supply, invalid, a...</td>\n",
              "      <td>NaN</td>\n",
              "      <td>NaN</td>\n",
              "    </tr>\n",
              "    <tr>\n",
              "      <th>95.0</th>\n",
              "      <td>1.0</td>\n",
              "      <td>order, return, invoice, explanation, productio...</td>\n",
              "      <td>NaN</td>\n",
              "      <td>NaN</td>\n",
              "    </tr>\n",
              "  </tbody>\n",
              "</table>\n",
              "<p>96 rows × 4 columns</p>\n",
              "</div>\n",
              "      <button class=\"colab-df-convert\" onclick=\"convertToInteractive('df-3de99a66-8ded-4261-a09d-26714f516b7a')\"\n",
              "              title=\"Convert this dataframe to an interactive table.\"\n",
              "              style=\"display:none;\">\n",
              "        \n",
              "  <svg xmlns=\"http://www.w3.org/2000/svg\" height=\"24px\"viewBox=\"0 0 24 24\"\n",
              "       width=\"24px\">\n",
              "    <path d=\"M0 0h24v24H0V0z\" fill=\"none\"/>\n",
              "    <path d=\"M18.56 5.44l.94 2.06.94-2.06 2.06-.94-2.06-.94-.94-2.06-.94 2.06-2.06.94zm-11 1L8.5 8.5l.94-2.06 2.06-.94-2.06-.94L8.5 2.5l-.94 2.06-2.06.94zm10 10l.94 2.06.94-2.06 2.06-.94-2.06-.94-.94-2.06-.94 2.06-2.06.94z\"/><path d=\"M17.41 7.96l-1.37-1.37c-.4-.4-.92-.59-1.43-.59-.52 0-1.04.2-1.43.59L10.3 9.45l-7.72 7.72c-.78.78-.78 2.05 0 2.83L4 21.41c.39.39.9.59 1.41.59.51 0 1.02-.2 1.41-.59l7.78-7.78 2.81-2.81c.8-.78.8-2.07 0-2.86zM5.41 20L4 18.59l7.72-7.72 1.47 1.35L5.41 20z\"/>\n",
              "  </svg>\n",
              "      </button>\n",
              "      \n",
              "  <style>\n",
              "    .colab-df-container {\n",
              "      display:flex;\n",
              "      flex-wrap:wrap;\n",
              "      gap: 12px;\n",
              "    }\n",
              "\n",
              "    .colab-df-convert {\n",
              "      background-color: #E8F0FE;\n",
              "      border: none;\n",
              "      border-radius: 50%;\n",
              "      cursor: pointer;\n",
              "      display: none;\n",
              "      fill: #1967D2;\n",
              "      height: 32px;\n",
              "      padding: 0 0 0 0;\n",
              "      width: 32px;\n",
              "    }\n",
              "\n",
              "    .colab-df-convert:hover {\n",
              "      background-color: #E2EBFA;\n",
              "      box-shadow: 0px 1px 2px rgba(60, 64, 67, 0.3), 0px 1px 3px 1px rgba(60, 64, 67, 0.15);\n",
              "      fill: #174EA6;\n",
              "    }\n",
              "\n",
              "    [theme=dark] .colab-df-convert {\n",
              "      background-color: #3B4455;\n",
              "      fill: #D2E3FC;\n",
              "    }\n",
              "\n",
              "    [theme=dark] .colab-df-convert:hover {\n",
              "      background-color: #434B5C;\n",
              "      box-shadow: 0px 1px 3px 1px rgba(0, 0, 0, 0.15);\n",
              "      filter: drop-shadow(0px 1px 2px rgba(0, 0, 0, 0.3));\n",
              "      fill: #FFFFFF;\n",
              "    }\n",
              "  </style>\n",
              "\n",
              "      <script>\n",
              "        const buttonEl =\n",
              "          document.querySelector('#df-3de99a66-8ded-4261-a09d-26714f516b7a button.colab-df-convert');\n",
              "        buttonEl.style.display =\n",
              "          google.colab.kernel.accessAllowed ? 'block' : 'none';\n",
              "\n",
              "        async function convertToInteractive(key) {\n",
              "          const element = document.querySelector('#df-3de99a66-8ded-4261-a09d-26714f516b7a');\n",
              "          const dataTable =\n",
              "            await google.colab.kernel.invokeFunction('convertToInteractive',\n",
              "                                                     [key], {});\n",
              "          if (!dataTable) return;\n",
              "\n",
              "          const docLinkHtml = 'Like what you see? Visit the ' +\n",
              "            '<a target=\"_blank\" href=https://colab.research.google.com/notebooks/data_table.ipynb>data table notebook</a>'\n",
              "            + ' to learn more about interactive tables.';\n",
              "          element.innerHTML = '';\n",
              "          dataTable['output_type'] = 'display_data';\n",
              "          await google.colab.output.renderOutput(dataTable, element);\n",
              "          const docLink = document.createElement('div');\n",
              "          docLink.innerHTML = docLinkHtml;\n",
              "          element.appendChild(docLink);\n",
              "        }\n",
              "      </script>\n",
              "    </div>\n",
              "  </div>\n",
              "  "
            ]
          },
          "metadata": {},
          "execution_count": 219
        }
      ]
    },
    {
      "cell_type": "code",
      "source": [],
      "metadata": {
        "id": "L6UoZT9qdnna"
      },
      "execution_count": null,
      "outputs": []
    },
    {
      "cell_type": "code",
      "source": [],
      "metadata": {
        "id": "rNa73iX8dDSi"
      },
      "execution_count": null,
      "outputs": []
    },
    {
      "cell_type": "code",
      "source": [],
      "metadata": {
        "id": "FyMvhAkccc8h"
      },
      "execution_count": null,
      "outputs": []
    }
  ]
}